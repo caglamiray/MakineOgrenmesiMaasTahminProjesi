{
 "cells": [
  {
   "cell_type": "code",
   "execution_count": 1,
   "id": "2ca8cf2e",
   "metadata": {},
   "outputs": [],
   "source": [
    "# PROJECT: SALARY PREDICTİON WITH MACHINE LEARNING"
   ]
  },
  {
   "cell_type": "code",
   "execution_count": 2,
   "id": "541502a5",
   "metadata": {},
   "outputs": [],
   "source": [
    "# İş Problemi\n",
    "\n",
    "# Maaş bilgileri ve 1986 yılına ait kariyer istatistikleri paylaşılan beyzbol\n",
    "# oyuncularının maaş tahminleri için bir makine öğrenmesi projesi gerçekleştirilebilir mi?"
   ]
  },
  {
   "cell_type": "code",
   "execution_count": 3,
   "id": "41d3cef0",
   "metadata": {},
   "outputs": [],
   "source": [
    "# Veri seti hikayesi\n",
    "\n",
    "# Bu veri seti orijinal olarak Carnegie Mellon Üniversitesi'nde bulunan StatLib kütüphanesinden alınmıştır.\n",
    "# Veri seti 1988 ASA Grafik Bölümü Poster Oturumu'nda kullanılan verilerin bir parçasıdır.\n",
    "# Maaş verileri orijinal olarak Sports Illustrated, 20 Nisan 1987'den alınmıştır.\n",
    "# 1986 ve kariyer istatistikleri, Collier Books, Macmillan Publishing Company, New York tarafından yayınlanan\n",
    "# 1987 Beyzbol Ansiklopedisi Güncellemesinden elde edilmiştir."
   ]
  },
  {
   "cell_type": "code",
   "execution_count": 4,
   "id": "fa9ff36b",
   "metadata": {},
   "outputs": [],
   "source": [
    "#Değişkenler\n",
    "\n",
    "# AtBat: 1986-1987 sezonunda bir beyzbol sopası ile topa yapılan vuruş sayısı\n",
    "# Hits: 1986-1987 sezonundaki isabet sayısı\n",
    "# HmRun: 1986-1987 sezonundaki en değerli vuruş sayısı\n",
    "# Runs: 1986-1987 sezonunda takımına kazandırdığı sayı\n",
    "# RBI: Bir vurucunun vuruş yaptıgında koşu yaptırdığı oyuncu sayısı\n",
    "# Walks: Karşı oyuncuya yaptırılan hata sayısı\n",
    "# Years: Oyuncunun major liginde oynama süresi (sene)\n",
    "# CAtBat: Oyuncunun kariyeri boyunca topa vurma sayısı\n",
    "# CHits: Oyuncunun kariyeri boyunca yaptığı isabetli vuruş sayısı\n",
    "# CHmRun: Oyucunun kariyeri boyunca yaptığı en değerli sayısı\n",
    "# CRuns: Oyuncunun kariyeri boyunca takımına kazandırdığı sayı\n",
    "# CRBI: Oyuncunun kariyeri boyunca koşu yaptırdırdığı oyuncu sayısı\n",
    "# CWalks: Oyuncun kariyeri boyunca karşı oyuncuya yaptırdığı hata sayısı\n",
    "# League: Oyuncunun sezon sonuna kadar oynadığı ligi gösteren A ve N seviyelerine sahip bir faktör\n",
    "# Division: 1986 sonunda oyuncunun oynadığı pozisyonu gösteren E ve W seviyelerine sahip bir faktör\n",
    "# PutOuts: Oyun icinde takım arkadaşınla yardımlaşma\n",
    "# Assits: 1986-1987 sezonunda oyuncunun yaptığı asist sayısı\n",
    "# Errors: 1986-1987 sezonundaki oyuncunun hata sayısı\n",
    "# Salary: Oyuncunun 1986-1987 sezonunda aldığı maaş(bin uzerinden)\n",
    "# NewLeague: 1987 sezonunun başında oyuncunun ligini gösteren A ve N seviyelerine sahip bir faktör"
   ]
  },
  {
   "cell_type": "code",
   "execution_count": 5,
   "id": "75c4c4e9",
   "metadata": {},
   "outputs": [],
   "source": [
    "# Gerekli Kütüphane ve Fonksiyonlar\n",
    "\n",
    "import numpy as np\n",
    "import pandas as pd\n",
    "import matplotlib.pyplot as plt\n",
    "import seaborn as sns"
   ]
  },
  {
   "cell_type": "code",
   "execution_count": 6,
   "id": "a4534347",
   "metadata": {},
   "outputs": [],
   "source": [
    "pd.set_option('display.float_format', lambda x: '%.2f' % x)  #virgülden sonra 2 basamak göster\n",
    "from sklearn.linear_model import LinearRegression\n",
    "from sklearn.metrics import mean_squared_error, mean_absolute_error\n",
    "from sklearn.model_selection import train_test_split, cross_val_score\n",
    "from sklearn.preprocessing import LabelEncoder\n",
    "from sklearn.preprocessing import RobustScaler\n",
    "from sklearn.preprocessing import StandardScaler"
   ]
  },
  {
   "cell_type": "code",
   "execution_count": 7,
   "id": "9554f3f1",
   "metadata": {},
   "outputs": [],
   "source": [
    "import warnings\n",
    "warnings.filterwarnings(\"ignore\")\n",
    "\n",
    "#bazı kodlarda güncelleme durumlarından vs kırmızı bi yazı geliyor onları gözardı etmek için böyle yaptık"
   ]
  },
  {
   "cell_type": "code",
   "execution_count": 8,
   "id": "f2d8c0b3",
   "metadata": {},
   "outputs": [],
   "source": [
    "df = pd.read_csv(\"OneDrive/hitters.csv\")"
   ]
  },
  {
   "cell_type": "code",
   "execution_count": 9,
   "id": "51358c97",
   "metadata": {},
   "outputs": [],
   "source": [
    "def check_df(dataframe, head=5):\n",
    "    print(\"##################### Shape #####################\")\n",
    "    print(dataframe.shape)\n",
    "    print(\"##################### Types #####################\")\n",
    "    print(dataframe.dtypes)\n",
    "    print(\"##################### Head #####################\")\n",
    "    print(dataframe.head(head))\n",
    "    print(\"##################### Tail #####################\")\n",
    "    print(dataframe.tail(head))\n",
    "    print(\"##################### NA #####################\")\n",
    "    print(dataframe.isnull().sum())\n",
    "    print(\"##################### Quantiles #####################\")\n",
    "    print(dataframe.quantile([0, 0.05, 0.50, 0.95, 0.99, 1]).T)"
   ]
  },
  {
   "cell_type": "code",
   "execution_count": 10,
   "id": "d2ae21b0",
   "metadata": {},
   "outputs": [
    {
     "name": "stdout",
     "output_type": "stream",
     "text": [
      "##################### Shape #####################\n",
      "(322, 20)\n",
      "##################### Types #####################\n",
      "AtBat          int64\n",
      "Hits           int64\n",
      "HmRun          int64\n",
      "Runs           int64\n",
      "RBI            int64\n",
      "Walks          int64\n",
      "Years          int64\n",
      "CAtBat         int64\n",
      "CHits          int64\n",
      "CHmRun         int64\n",
      "CRuns          int64\n",
      "CRBI           int64\n",
      "CWalks         int64\n",
      "League        object\n",
      "Division      object\n",
      "PutOuts        int64\n",
      "Assists        int64\n",
      "Errors         int64\n",
      "Salary       float64\n",
      "NewLeague     object\n",
      "dtype: object\n",
      "##################### Head #####################\n",
      "   AtBat  Hits  HmRun  Runs  RBI  Walks  Years  CAtBat  CHits  CHmRun  CRuns  \\\n",
      "0    293    66      1    30   29     14      1     293     66       1     30   \n",
      "1    315    81      7    24   38     39     14    3449    835      69    321   \n",
      "2    479   130     18    66   72     76      3    1624    457      63    224   \n",
      "3    496   141     20    65   78     37     11    5628   1575     225    828   \n",
      "4    321    87     10    39   42     30      2     396    101      12     48   \n",
      "\n",
      "   CRBI  CWalks League Division  PutOuts  Assists  Errors  Salary NewLeague  \n",
      "0    29      14      A        E      446       33      20     NaN         A  \n",
      "1   414     375      N        W      632       43      10  475.00         N  \n",
      "2   266     263      A        W      880       82      14  480.00         A  \n",
      "3   838     354      N        E      200       11       3  500.00         N  \n",
      "4    46      33      N        E      805       40       4   91.50         N  \n",
      "##################### Tail #####################\n",
      "     AtBat  Hits  HmRun  Runs  RBI  Walks  Years  CAtBat  CHits  CHmRun  \\\n",
      "317    497   127      7    65   48     37      5    2703    806      32   \n",
      "318    492   136      5    76   50     94     12    5511   1511      39   \n",
      "319    475   126      3    61   43     52      6    1700    433       7   \n",
      "320    573   144      9    85   60     78      8    3198    857      97   \n",
      "321    631   170      9    77   44     31     11    4908   1457      30   \n",
      "\n",
      "     CRuns  CRBI  CWalks League Division  PutOuts  Assists  Errors  Salary  \\\n",
      "317    379   311     138      N        E      325        9       3  700.00   \n",
      "318    897   451     875      A        E      313      381      20  875.00   \n",
      "319    217    93     146      A        W       37      113       7  385.00   \n",
      "320    470   420     332      A        E     1314      131      12  960.00   \n",
      "321    775   357     249      A        W      408        4       3 1000.00   \n",
      "\n",
      "    NewLeague  \n",
      "317         N  \n",
      "318         A  \n",
      "319         A  \n",
      "320         A  \n",
      "321         A  \n",
      "##################### NA #####################\n",
      "AtBat         0\n",
      "Hits          0\n",
      "HmRun         0\n",
      "Runs          0\n",
      "RBI           0\n",
      "Walks         0\n",
      "Years         0\n",
      "CAtBat        0\n",
      "CHits         0\n",
      "CHmRun        0\n",
      "CRuns         0\n",
      "CRBI          0\n",
      "CWalks        0\n",
      "League        0\n",
      "Division      0\n",
      "PutOuts       0\n",
      "Assists       0\n",
      "Errors        0\n",
      "Salary       59\n",
      "NewLeague     0\n",
      "dtype: int64\n",
      "##################### Quantiles #####################\n",
      "         0.00   0.05    0.50    0.95    0.99     1.00\n",
      "AtBat   16.00 161.00  379.50  609.90  658.59   687.00\n",
      "Hits     1.00  39.00   96.00  174.00  210.79   238.00\n",
      "HmRun    0.00   0.00    8.00   28.95   33.00    40.00\n",
      "Runs     0.00  17.00   48.00   94.00  107.79   130.00\n",
      "RBI      0.00  14.00   44.00   96.00  112.37   121.00\n",
      "Walks    0.00  11.05   35.00   78.00   93.58   105.00\n",
      "Years    1.00   1.00    6.00   17.00   19.79    24.00\n",
      "CAtBat  19.00 216.50 1928.00 7125.60 8749.97 14053.00\n",
      "CHits    4.00  54.00  508.00 2017.15 2500.34  4256.00\n",
      "CHmRun   0.00   2.00   37.50  265.65  373.12   548.00\n",
      "CRuns    1.00  27.00  247.00 1032.30 1174.37  2165.00\n",
      "CRBI     0.00  22.05  220.50 1071.75 1310.85  1659.00\n",
      "CWalks   0.00  15.05  170.50  817.60 1139.14  1566.00\n",
      "PutOuts  0.00  33.20  212.00  910.65 1301.19  1378.00\n",
      "Assists  0.00   0.00   39.50  431.45  478.16   492.00\n",
      "Errors   0.00   0.00    6.00   20.00   25.79    32.00\n",
      "Salary  67.50  86.60  425.00 1346.00 2032.89  2460.00\n"
     ]
    }
   ],
   "source": [
    "check_df(df)"
   ]
  },
  {
   "cell_type": "code",
   "execution_count": 11,
   "id": "91f2e83a",
   "metadata": {},
   "outputs": [],
   "source": [
    "def grab_col_names(df, cat_th=10, car_th=20):\n",
    "    \"\"\"\n",
    "\n",
    "    Veri setindeki kategorik, numerik ve kategorik fakat kardinal değişkenlerin isimlerini verir.\n",
    "    Not: Kategorik değişkenlerin içerisine numerik görünümlü kategorik değişkenler de dahildir.\n",
    "\n",
    "    Parameters\n",
    "    ------\n",
    "        df: df\n",
    "                Değişken isimleri alınmak istenilen df\n",
    "        cat_th: int, optional\n",
    "                numerik fakat kategorik olan değişkenler için sınıf eşik değeri\n",
    "        car_th: int, optinal\n",
    "                kategorik fakat kardinal değişkenler için sınıf eşik değeri\n",
    "\n",
    "    Returns\n",
    "    ------\n",
    "        cat_cols: list\n",
    "                Kategorik değişken listesi\n",
    "        num_cols: list\n",
    "                Numerik değişken listesi\n",
    "        cat_but_car: list\n",
    "                Kategorik görünümlü kardinal değişken listesi\n",
    "\n",
    "    Examples\n",
    "    ------\n",
    "        import seaborn as sns\n",
    "        df = sns.load_dataset(\"iris\")\n",
    "        print(grab_col_names(df))\n",
    "\n",
    "\n",
    "    Notes\n",
    "    ------\n",
    "        cat_cols + num_cols + cat_but_car = toplam değişken sayısı\n",
    "        num_but_cat cat_cols'un içerisinde.\n",
    "        Return olan 3 liste toplamı toplam değişken sayısına eşittir: cat_cols + num_cols + cat_but_car = değişken sayısı\n",
    "\n",
    "    \"\"\"\n",
    "\n",
    "\n",
    "    # cat_cols, cat_but_car\n",
    "    cat_cols = [col for col in df.columns if df[col].dtypes == \"O\"]\n",
    "    num_but_cat = [col for col in df.columns if df[col].nunique() < cat_th and\n",
    "                   df[col].dtypes != \"O\"]\n",
    "    cat_but_car = [col for col in df.columns if df[col].nunique() > car_th and\n",
    "                   df[col].dtypes == \"O\"]\n",
    "    cat_cols = cat_cols + num_but_cat\n",
    "    cat_cols = [col for col in cat_cols if col not in cat_but_car]\n",
    "\n",
    "    # num_cols\n",
    "    num_cols = [col for col in df.columns if df[col].dtypes != \"O\"]\n",
    "    num_cols = [col for col in num_cols if col not in num_but_cat]\n",
    "\n",
    "    print(f\"Observations: {df.shape[0]}\")\n",
    "    print(f\"Variables: {df.shape[1]}\")\n",
    "    print(f'cat_cols: {len(cat_cols)}')\n",
    "    print(f'num_cols: {len(num_cols)}')\n",
    "    print(f'cat_but_car: {len(cat_but_car)}')\n",
    "    print(f'num_but_cat: {len(num_but_cat)}')\n",
    "    return cat_cols, num_cols, cat_but_car"
   ]
  },
  {
   "cell_type": "code",
   "execution_count": 12,
   "id": "4e223105",
   "metadata": {},
   "outputs": [
    {
     "name": "stdout",
     "output_type": "stream",
     "text": [
      "Observations: 322\n",
      "Variables: 20\n",
      "cat_cols: 3\n",
      "num_cols: 17\n",
      "cat_but_car: 0\n",
      "num_but_cat: 0\n"
     ]
    }
   ],
   "source": [
    "cat_cols, num_cols, cat_but_car = grab_col_names(df)"
   ]
  },
  {
   "cell_type": "code",
   "execution_count": 13,
   "id": "034a748e",
   "metadata": {},
   "outputs": [
    {
     "data": {
      "text/plain": [
       "['League', 'Division', 'NewLeague']"
      ]
     },
     "execution_count": 13,
     "metadata": {},
     "output_type": "execute_result"
    }
   ],
   "source": [
    "cat_cols"
   ]
  },
  {
   "cell_type": "code",
   "execution_count": 14,
   "id": "b2d77f39",
   "metadata": {},
   "outputs": [
    {
     "data": {
      "text/plain": [
       "['AtBat',\n",
       " 'Hits',\n",
       " 'HmRun',\n",
       " 'Runs',\n",
       " 'RBI',\n",
       " 'Walks',\n",
       " 'Years',\n",
       " 'CAtBat',\n",
       " 'CHits',\n",
       " 'CHmRun',\n",
       " 'CRuns',\n",
       " 'CRBI',\n",
       " 'CWalks',\n",
       " 'PutOuts',\n",
       " 'Assists',\n",
       " 'Errors',\n",
       " 'Salary']"
      ]
     },
     "execution_count": 14,
     "metadata": {},
     "output_type": "execute_result"
    }
   ],
   "source": [
    "num_cols"
   ]
  },
  {
   "cell_type": "code",
   "execution_count": 15,
   "id": "5ac448b1",
   "metadata": {},
   "outputs": [
    {
     "data": {
      "text/plain": [
       "[]"
      ]
     },
     "execution_count": 15,
     "metadata": {},
     "output_type": "execute_result"
    }
   ],
   "source": [
    "cat_but_car"
   ]
  },
  {
   "cell_type": "code",
   "execution_count": 16,
   "id": "55213d97",
   "metadata": {},
   "outputs": [],
   "source": [
    "# GELİŞMİŞ FONKSİYONEL KEŞİFÇİ VERİ ANALİZİ (ADVANCED FUNCTIONAL EDA)\n",
    "#############################################\n",
    "\n",
    "# 1. Outliers (Aykırı Değerler)\n",
    "# 2. Missing Values (Eksik Değerler)\n",
    "# 3. Feature Extraction (Özellik Çıkarımı)\n",
    "# 4. Encoding (Label Encoding, One-Hot Encoding, Rare Encoding)\n",
    "# 5. Feature Scaling (Özellik Ölçeklendirme)"
   ]
  },
  {
   "cell_type": "code",
   "execution_count": 17,
   "id": "76198a9c",
   "metadata": {},
   "outputs": [],
   "source": [
    "# 1. Outliers (Aykırı Değerler)"
   ]
  },
  {
   "cell_type": "code",
   "execution_count": 18,
   "id": "294ccb1e",
   "metadata": {},
   "outputs": [],
   "source": [
    "def outlier_thresholds(df, col_name, q1=0.25, q3=0.75):\n",
    "    quartile1 = df[col_name].quantile(q1)\n",
    "    quartile3 = df[col_name].quantile(q3)\n",
    "    interquantile_range = quartile3 - quartile1\n",
    "    up_limit = quartile3 + 1.5 * interquantile_range\n",
    "    low_limit = quartile1 - 1.5 * interquantile_range\n",
    "    return low_limit, up_limit\n",
    "\n",
    "#alt ve üst limitin belirlenmesi"
   ]
  },
  {
   "cell_type": "code",
   "execution_count": 19,
   "id": "8924abdb",
   "metadata": {},
   "outputs": [],
   "source": [
    "def check_outlier(df, col_name, q1=0.25, q3=0.75):\n",
    "    low_limit, up_limit = outlier_thresholds(df, col_name, q1, q3)\n",
    "    if df[(df[col_name] > up_limit) | (df[col_name] < low_limit)].any(axis=None):\n",
    "        return True\n",
    "    else:\n",
    "        return False\n",
    "    \n",
    "#alt ve üst limite göre aykırı değer var mı diye bakmak için    "
   ]
  },
  {
   "cell_type": "code",
   "execution_count": 20,
   "id": "1535126f",
   "metadata": {},
   "outputs": [
    {
     "name": "stdout",
     "output_type": "stream",
     "text": [
      "AtBat False\n",
      "Hits False\n",
      "HmRun True\n",
      "Runs True\n",
      "RBI True\n",
      "Walks True\n",
      "Years True\n",
      "CAtBat True\n",
      "CHits True\n",
      "CHmRun True\n",
      "CRuns True\n",
      "CRBI True\n",
      "CWalks True\n",
      "PutOuts True\n",
      "Assists True\n",
      "Errors True\n",
      "Salary True\n"
     ]
    }
   ],
   "source": [
    "for col in num_cols:\n",
    "    print(col, check_outlier(df, col))\n",
    "    \n",
    "#bütün kolonlara bakıyoruz aykırı değer var mı diye    "
   ]
  },
  {
   "cell_type": "code",
   "execution_count": 21,
   "id": "64f793d4",
   "metadata": {},
   "outputs": [
    {
     "data": {
      "image/png": "[encoded data removed]",
      "text/plain": [
       "<Figure size 640x480 with 1 Axes>"
      ]
     },
     "metadata": {},
     "output_type": "display_data"
    },
    {
     "data": {
      "image/png": "[encoded data removed]",
      "text/plain": [
       "<Figure size 640x480 with 1 Axes>"
      ]
     },
     "metadata": {},
     "output_type": "display_data"
    },
    {
     "data": {
      "image/png": "[encoded data removed]",
      "text/plain": [
       "<Figure size 640x480 with 1 Axes>"
      ]
     },
     "metadata": {},
     "output_type": "display_data"
    },
    {
     "data": {
      "image/png": "[encoded data removed]",
      "text/plain": [
       "<Figure size 640x480 with 1 Axes>"
      ]
     },
     "metadata": {},
     "output_type": "display_data"
    },
    {
     "data": {
      "image/png": "[encoded data removed]",
      "text/plain": [
       "<Figure size 640x480 with 1 Axes>"
      ]
     },
     "metadata": {},
     "output_type": "display_data"
    },
    {
     "data": {
      "image/png": "[encoded data removed]",
      "text/plain": [
       "<Figure size 640x480 with 1 Axes>"
      ]
     },
     "metadata": {},
     "output_type": "display_data"
    },
    {
     "data": {
      "image/png": "[encoded data removed]",
      "text/plain": [
       "<Figure size 640x480 with 1 Axes>"
      ]
     },
     "metadata": {},
     "output_type": "display_data"
    },
    {
     "data": {
      "image/png": "[encoded data removed]",
      "text/plain": [
       "<Figure size 640x480 with 1 Axes>"
      ]
     },
     "metadata": {},
     "output_type": "display_data"
    },
    {
     "data": {
      "image/png": "[encoded data removed]",
      "text/plain": [
       "<Figure size 640x480 with 1 Axes>"
      ]
     },
     "metadata": {},
     "output_type": "display_data"
    },
    {
     "data": {
      "image/png": "[encoded data removed]",
      "text/plain": [
       "<Figure size 640x480 with 1 Axes>"
      ]
     },
     "metadata": {},
     "output_type": "display_data"
    },
    {
     "data": {
      "image/png": "[encoded data removed]",
      "text/plain": [
       "<Figure size 640x480 with 1 Axes>"
      ]
     },
     "metadata": {},
     "output_type": "display_data"
    },
    {
     "data": {
      "image/png": "[encoded data removed]",
      "text/plain": [
       "<Figure size 640x480 with 1 Axes>"
      ]
     },
     "metadata": {},
     "output_type": "display_data"
    },
    {
     "data": {
      "image/png": "[encoded data removed]",
      "text/plain": [
       "<Figure size 640x480 with 1 Axes>"
      ]
     },
     "metadata": {},
     "output_type": "display_data"
    },
    {
     "data": {
      "image/png": "[encoded data removed]",
      "text/plain": [
       "<Figure size 640x480 with 1 Axes>"
      ]
     },
     "metadata": {},
     "output_type": "display_data"
    },
    {
     "data": {
      "image/png": "[encoded data removed]",
      "text/plain": [
       "<Figure size 640x480 with 1 Axes>"
      ]
     },
     "metadata": {},
     "output_type": "display_data"
    },
    {
     "data": {
      "image/png": "[encoded data removed]",
      "text/plain": [
       "<Figure size 640x480 with 1 Axes>"
      ]
     },
     "metadata": {},
     "output_type": "display_data"
    },
    {
     "data": {
      "image/png": "[encoded data removed]",
      "text/plain": [
       "<Figure size 640x480 with 1 Axes>"
      ]
     },
     "metadata": {},
     "output_type": "display_data"
    }
   ],
   "source": [
    "for col in num_cols:\n",
    "    plt.title(col)\n",
    "    sns.boxplot(df[col])\n",
    "    plt.show(block=True)\n",
    "    \n",
    "#aykırı değer sorgusu grafiği  \n",
    "#çizgilerin dışındaki noktalar aykırı değerler"
   ]
  },
  {
   "cell_type": "code",
   "execution_count": 22,
   "id": "6404e786",
   "metadata": {},
   "outputs": [
    {
     "name": "stdout",
     "output_type": "stream",
     "text": [
      "AtBat False\n",
      "Hits False\n",
      "HmRun False\n",
      "Runs False\n",
      "RBI False\n",
      "Walks False\n",
      "Years False\n",
      "CAtBat False\n",
      "CHits True\n",
      "CHmRun True\n",
      "CRuns False\n",
      "CRBI False\n",
      "CWalks True\n",
      "PutOuts False\n",
      "Assists False\n",
      "Errors False\n",
      "Salary False\n"
     ]
    }
   ],
   "source": [
    "for col in num_cols:\n",
    "    print(col, check_outlier(df, col, q1=0.1, q3=0.9))\n",
    "    \n",
    "#veriye çok hakim olmadığımız için q1 ve q3ü 0.1 ve 0.9a çektik    \n",
    "#keskin kararlar almak istemedik"
   ]
  },
  {
   "cell_type": "code",
   "execution_count": 23,
   "id": "6a50ba93",
   "metadata": {},
   "outputs": [],
   "source": [
    "def replace_with_thresholds(df, variable, q1, q3):\n",
    "    low_limit, up_limit = outlier_thresholds(df, variable)\n",
    "    df.loc[(df[variable] < low_limit), variable] = low_limit\n",
    "    df.loc[(df[variable] > up_limit), variable] = up_limit"
   ]
  },
  {
   "cell_type": "code",
   "execution_count": 24,
   "id": "427830dc",
   "metadata": {},
   "outputs": [],
   "source": [
    "for col in num_cols:\n",
    "    if check_outlier(df, col, q1=0.1, q3=0.9):\n",
    "        replace_with_thresholds(df, col, q1=0.1, q3=0.9)"
   ]
  },
  {
   "cell_type": "code",
   "execution_count": 25,
   "id": "df243b15",
   "metadata": {},
   "outputs": [],
   "source": [
    "# 2. Kategorik Değişken Analizi (Analysis of Categorical Variables)"
   ]
  },
  {
   "cell_type": "code",
   "execution_count": 26,
   "id": "364ea7f3",
   "metadata": {},
   "outputs": [],
   "source": [
    "def cat_summary(dataframe, col_name, plot=False):\n",
    "    print(pd.DataFrame({col_name: dataframe[col_name].value_counts(),\n",
    "                        \"Ratio\": 100 * dataframe[col_name].value_counts() / len(dataframe)}))\n",
    "    print(\"##########################################\")\n",
    "\n",
    "    if plot:\n",
    "        sns.countplot(x=dataframe[col_name], data=dataframe)\n",
    "        plt.show(block=True)"
   ]
  },
  {
   "cell_type": "code",
   "execution_count": 27,
   "id": "c964f955",
   "metadata": {},
   "outputs": [
    {
     "name": "stdout",
     "output_type": "stream",
     "text": [
      "   League  Ratio\n",
      "A     175  54.35\n",
      "N     147  45.65\n",
      "##########################################\n"
     ]
    },
    {
     "data": {
      "image/png": "[encoded data removed]",
      "text/plain": [
       "<Figure size 640x480 with 1 Axes>"
      ]
     },
     "metadata": {},
     "output_type": "display_data"
    },
    {
     "name": "stdout",
     "output_type": "stream",
     "text": [
      "   Division  Ratio\n",
      "W       165  51.24\n",
      "E       157  48.76\n",
      "##########################################\n"
     ]
    },
    {
     "data": {
      "image/png": "[encoded data removed]",
      "text/plain": [
       "<Figure size 640x480 with 1 Axes>"
      ]
     },
     "metadata": {},
     "output_type": "display_data"
    },
    {
     "name": "stdout",
     "output_type": "stream",
     "text": [
      "   NewLeague  Ratio\n",
      "A        176  54.66\n",
      "N        146  45.34\n",
      "##########################################\n"
     ]
    },
    {
     "data": {
      "image/png": "[encoded data removed]",
      "text/plain": [
       "<Figure size 640x480 with 1 Axes>"
      ]
     },
     "metadata": {},
     "output_type": "display_data"
    }
   ],
   "source": [
    "for col in cat_cols:\n",
    "    cat_summary(df, col, plot=True)\n",
    "    \n",
    "#ilki için: A liginde oynayanların oranı %54 N liginde oynayanların oranı %45    "
   ]
  },
  {
   "cell_type": "code",
   "execution_count": 28,
   "id": "af39f7d1",
   "metadata": {},
   "outputs": [],
   "source": [
    "# 3. Sayısal Değişken Analizi (Analysis of Numerical Variables)"
   ]
  },
  {
   "cell_type": "code",
   "execution_count": 29,
   "id": "0708e55c",
   "metadata": {},
   "outputs": [],
   "source": [
    "def num_summary(dataframe, numerical_col, plot=False):\n",
    "    quantiles = [0.05, 0.10, 0.20, 0.30, 0.40, 0.50, 0.60, 0.70, 0.80, 0.90, 0.95, 0.99]\n",
    "\n",
    "    print(dataframe[numerical_col].describe(quantiles).T)\n",
    "\n",
    "    if plot:\n",
    "        dataframe[numerical_col].hist(bins=20)\n",
    "        plt.xlabel(numerical_col)\n",
    "        plt.title(numerical_col)\n",
    "        plt.show(block=True)"
   ]
  },
  {
   "cell_type": "code",
   "execution_count": 30,
   "id": "d09dc430",
   "metadata": {},
   "outputs": [
    {
     "name": "stdout",
     "output_type": "stream",
     "text": [
      "count   322.00\n",
      "mean    380.93\n",
      "std     153.40\n",
      "min      16.00\n",
      "5%      161.00\n",
      "10%     194.10\n",
      "20%     221.80\n",
      "30%     281.30\n",
      "40%     321.80\n",
      "50%     379.50\n",
      "60%     430.20\n",
      "70%     490.00\n",
      "80%     535.60\n",
      "90%     584.90\n",
      "95%     609.90\n",
      "99%     658.59\n",
      "max     687.00\n",
      "Name: AtBat, dtype: float64\n"
     ]
    },
    {
     "data": {
      "image/png": "[encoded data removed]",
      "text/plain": [
       "<Figure size 640x480 with 1 Axes>"
      ]
     },
     "metadata": {},
     "output_type": "display_data"
    },
    {
     "name": "stdout",
     "output_type": "stream",
     "text": [
      "count   322.00\n",
      "mean    101.02\n",
      "std      46.45\n",
      "min       1.00\n",
      "5%       39.00\n",
      "10%      45.10\n",
      "20%      57.00\n",
      "30%      70.00\n",
      "40%      82.00\n",
      "50%      96.00\n",
      "60%     113.00\n",
      "70%     128.70\n",
      "80%     144.00\n",
      "90%     163.00\n",
      "95%     174.00\n",
      "99%     210.79\n",
      "max     238.00\n",
      "Name: Hits, dtype: float64\n"
     ]
    },
    {
     "data": {
      "image/png": "[encoded data removed]",
      "text/plain": [
       "<Figure size 640x480 with 1 Axes>"
      ]
     },
     "metadata": {},
     "output_type": "display_data"
    },
    {
     "name": "stdout",
     "output_type": "stream",
     "text": [
      "count   322.00\n",
      "mean     10.77\n",
      "std       8.71\n",
      "min       0.00\n",
      "5%        0.00\n",
      "10%       1.00\n",
      "20%       3.00\n",
      "30%       5.00\n",
      "40%       6.00\n",
      "50%       8.00\n",
      "60%      10.60\n",
      "70%      14.00\n",
      "80%      18.00\n",
      "90%      24.00\n",
      "95%      28.95\n",
      "99%      33.00\n",
      "max      40.00\n",
      "Name: HmRun, dtype: float64\n"
     ]
    },
    {
     "data": {
      "image/png": "[encoded data removed]",
      "text/plain": [
       "<Figure size 640x480 with 1 Axes>"
      ]
     },
     "metadata": {},
     "output_type": "display_data"
    },
    {
     "name": "stdout",
     "output_type": "stream",
     "text": [
      "count   322.00\n",
      "mean     50.91\n",
      "std      26.02\n",
      "min       0.00\n",
      "5%       17.00\n",
      "10%      20.10\n",
      "20%      27.00\n",
      "30%      33.00\n",
      "40%      41.00\n",
      "50%      48.00\n",
      "60%      55.60\n",
      "70%      66.00\n",
      "80%      75.80\n",
      "90%      89.00\n",
      "95%      94.00\n",
      "99%     107.79\n",
      "max     130.00\n",
      "Name: Runs, dtype: float64\n"
     ]
    },
    {
     "data": {
      "image/png": "[encoded data removed]",
      "text/plain": [
       "<Figure size 640x480 with 1 Axes>"
      ]
     },
     "metadata": {},
     "output_type": "display_data"
    },
    {
     "name": "stdout",
     "output_type": "stream",
     "text": [
      "count   322.00\n",
      "mean     48.03\n",
      "std      26.17\n",
      "min       0.00\n",
      "5%       14.00\n",
      "10%      19.00\n",
      "20%      26.00\n",
      "30%      30.00\n",
      "40%      36.40\n",
      "50%      44.00\n",
      "60%      49.00\n",
      "70%      58.00\n",
      "80%      73.00\n",
      "90%      86.00\n",
      "95%      96.00\n",
      "99%     112.37\n",
      "max     121.00\n",
      "Name: RBI, dtype: float64\n"
     ]
    },
    {
     "data": {
      "image/png": "[encoded data removed]",
      "text/plain": [
       "<Figure size 640x480 with 1 Axes>"
      ]
     },
     "metadata": {},
     "output_type": "display_data"
    },
    {
     "name": "stdout",
     "output_type": "stream",
     "text": [
      "count   322.00\n",
      "mean     38.74\n",
      "std      21.64\n",
      "min       0.00\n",
      "5%       11.05\n",
      "10%      15.00\n",
      "20%      20.00\n",
      "30%      24.00\n",
      "40%      30.00\n",
      "50%      35.00\n",
      "60%      40.00\n",
      "70%      48.70\n",
      "80%      59.00\n",
      "90%      69.90\n",
      "95%      78.00\n",
      "99%      93.58\n",
      "max     105.00\n",
      "Name: Walks, dtype: float64\n"
     ]
    },
    {
     "data": {
      "image/png": "[encoded data removed]",
      "text/plain": [
       "<Figure size 640x480 with 1 Axes>"
      ]
     },
     "metadata": {},
     "output_type": "display_data"
    },
    {
     "name": "stdout",
     "output_type": "stream",
     "text": [
      "count   322.00\n",
      "mean      7.44\n",
      "std       4.93\n",
      "min       1.00\n",
      "5%        1.00\n",
      "10%       2.00\n",
      "20%       3.00\n",
      "30%       4.00\n",
      "40%       5.00\n",
      "50%       6.00\n",
      "60%       7.60\n",
      "70%      10.00\n",
      "80%      12.00\n",
      "90%      15.00\n",
      "95%      17.00\n",
      "99%      19.79\n",
      "max      24.00\n",
      "Name: Years, dtype: float64\n"
     ]
    },
    {
     "data": {
      "image/png": "[encoded data removed]",
      "text/plain": [
       "<Figure size 640x480 with 1 Axes>"
      ]
     },
     "metadata": {},
     "output_type": "display_data"
    },
    {
     "name": "stdout",
     "output_type": "stream",
     "text": [
      "count     322.00\n",
      "mean     2648.68\n",
      "std      2324.21\n",
      "min        19.00\n",
      "5%        216.50\n",
      "10%       342.20\n",
      "20%       667.60\n",
      "30%       963.40\n",
      "40%      1402.20\n",
      "50%      1928.00\n",
      "60%      2654.00\n",
      "70%      3365.00\n",
      "80%      4483.00\n",
      "90%      6123.40\n",
      "95%      7125.60\n",
      "99%      8749.97\n",
      "max     14053.00\n",
      "Name: CAtBat, dtype: float64\n"
     ]
    },
    {
     "data": {
      "image/png": "[encoded data removed]",
      "text/plain": [
       "<Figure size 640x480 with 1 Axes>"
      ]
     },
     "metadata": {},
     "output_type": "display_data"
    },
    {
     "name": "stdout",
     "output_type": "stream",
     "text": [
      "count    322.00\n",
      "mean     708.44\n",
      "std      621.52\n",
      "min        4.00\n",
      "5%        54.00\n",
      "10%       86.00\n",
      "20%      164.60\n",
      "30%      238.00\n",
      "40%      355.80\n",
      "50%      508.00\n",
      "60%      708.20\n",
      "70%      911.10\n",
      "80%     1229.20\n",
      "90%     1659.60\n",
      "95%     2017.15\n",
      "99%     2334.62\n",
      "max     2334.62\n",
      "Name: CHits, dtype: float64\n"
     ]
    },
    {
     "data": {
      "image/png": "[encoded data removed]",
      "text/plain": [
       "<Figure size 640x480 with 1 Axes>"
      ]
     },
     "metadata": {},
     "output_type": "display_data"
    },
    {
     "name": "stdout",
     "output_type": "stream",
     "text": [
      "count   322.00\n",
      "mean     61.46\n",
      "std      63.35\n",
      "min       0.00\n",
      "5%        2.00\n",
      "10%       4.00\n",
      "20%      10.20\n",
      "30%      16.30\n",
      "40%      27.40\n",
      "50%      37.50\n",
      "60%      51.20\n",
      "70%      72.40\n",
      "80%     103.80\n",
      "90%     194.90\n",
      "95%     204.00\n",
      "99%     204.00\n",
      "max     204.00\n",
      "Name: CHmRun, dtype: float64\n"
     ]
    },
    {
     "data": {
      "image/png": "[encoded data removed]",
      "text/plain": [
       "<Figure size 640x480 with 1 Axes>"
      ]
     },
     "metadata": {},
     "output_type": "display_data"
    },
    {
     "name": "stdout",
     "output_type": "stream",
     "text": [
      "count    322.00\n",
      "mean     358.80\n",
      "std      334.11\n",
      "min        1.00\n",
      "5%        27.00\n",
      "10%       38.10\n",
      "20%       80.40\n",
      "30%      117.30\n",
      "40%      181.00\n",
      "50%      247.00\n",
      "60%      333.00\n",
      "70%      443.40\n",
      "80%      627.20\n",
      "90%      895.70\n",
      "95%     1032.30\n",
      "99%     1174.37\n",
      "max     2165.00\n",
      "Name: CRuns, dtype: float64\n"
     ]
    },
    {
     "data": {
      "image/png": "[encoded data removed]",
      "text/plain": [
       "<Figure size 640x480 with 1 Axes>"
      ]
     },
     "metadata": {},
     "output_type": "display_data"
    },
    {
     "name": "stdout",
     "output_type": "stream",
     "text": [
      "count    322.00\n",
      "mean     330.12\n",
      "std      333.22\n",
      "min        0.00\n",
      "5%        22.05\n",
      "10%       34.10\n",
      "20%       70.20\n",
      "30%      106.30\n",
      "40%      149.00\n",
      "50%      220.50\n",
      "60%      303.60\n",
      "70%      379.10\n",
      "80%      496.20\n",
      "90%      861.60\n",
      "95%     1071.75\n",
      "99%     1310.85\n",
      "max     1659.00\n",
      "Name: CRBI, dtype: float64\n"
     ]
    },
    {
     "data": {
      "image/png": "[encoded data removed]",
      "text/plain": [
       "<Figure size 640x480 with 1 Axes>"
      ]
     },
     "metadata": {},
     "output_type": "display_data"
    },
    {
     "name": "stdout",
     "output_type": "stream",
     "text": [
      "count   322.00\n",
      "mean    245.20\n",
      "std     223.42\n",
      "min       0.00\n",
      "5%       15.05\n",
      "10%      30.10\n",
      "20%      55.00\n",
      "30%      82.00\n",
      "40%     117.40\n",
      "50%     170.50\n",
      "60%     226.60\n",
      "70%     300.70\n",
      "80%     421.00\n",
      "90%     643.90\n",
      "95%     747.25\n",
      "99%     747.25\n",
      "max     747.25\n",
      "Name: CWalks, dtype: float64\n"
     ]
    },
    {
     "data": {
      "image/png": "[encoded data removed]",
      "text/plain": [
       "<Figure size 640x480 with 1 Axes>"
      ]
     },
     "metadata": {},
     "output_type": "display_data"
    },
    {
     "name": "stdout",
     "output_type": "stream",
     "text": [
      "count    322.00\n",
      "mean     288.94\n",
      "std      280.70\n",
      "min        0.00\n",
      "5%        33.20\n",
      "10%       62.20\n",
      "20%       99.60\n",
      "30%      132.00\n",
      "40%      167.00\n",
      "50%      212.00\n",
      "60%      257.40\n",
      "70%      303.00\n",
      "80%      365.80\n",
      "90%      685.60\n",
      "95%      910.65\n",
      "99%     1301.19\n",
      "max     1378.00\n",
      "Name: PutOuts, dtype: float64\n"
     ]
    },
    {
     "data": {
      "image/png": "[encoded data removed]",
      "text/plain": [
       "<Figure size 640x480 with 1 Axes>"
      ]
     },
     "metadata": {},
     "output_type": "display_data"
    },
    {
     "name": "stdout",
     "output_type": "stream",
     "text": [
      "count   322.00\n",
      "mean    106.91\n",
      "std     136.85\n",
      "min       0.00\n",
      "5%        0.00\n",
      "10%       2.00\n",
      "20%       5.20\n",
      "30%       9.00\n",
      "40%      15.40\n",
      "50%      39.50\n",
      "60%      76.80\n",
      "70%     134.80\n",
      "80%     210.80\n",
      "90%     353.30\n",
      "95%     431.45\n",
      "99%     478.16\n",
      "max     492.00\n",
      "Name: Assists, dtype: float64\n"
     ]
    },
    {
     "data": {
      "image/png": "[encoded data removed]",
      "text/plain": [
       "<Figure size 640x480 with 1 Axes>"
      ]
     },
     "metadata": {},
     "output_type": "display_data"
    },
    {
     "name": "stdout",
     "output_type": "stream",
     "text": [
      "count   322.00\n",
      "mean      8.04\n",
      "std       6.37\n",
      "min       0.00\n",
      "5%        0.00\n",
      "10%       1.00\n",
      "20%       3.00\n",
      "30%       4.00\n",
      "40%       5.00\n",
      "50%       6.00\n",
      "60%       8.00\n",
      "70%      10.00\n",
      "80%      13.00\n",
      "90%      17.00\n",
      "95%      20.00\n",
      "99%      25.79\n",
      "max      32.00\n",
      "Name: Errors, dtype: float64\n"
     ]
    },
    {
     "data": {
      "image/png": "[encoded data removed]",
      "text/plain": [
       "<Figure size 640x480 with 1 Axes>"
      ]
     },
     "metadata": {},
     "output_type": "display_data"
    },
    {
     "name": "stdout",
     "output_type": "stream",
     "text": [
      "count    263.00\n",
      "mean     535.93\n",
      "std      451.12\n",
      "min       67.50\n",
      "5%        86.60\n",
      "10%      100.00\n",
      "20%      155.00\n",
      "30%      221.00\n",
      "40%      300.00\n",
      "50%      425.00\n",
      "60%      538.00\n",
      "70%      700.00\n",
      "80%      809.00\n",
      "90%     1048.67\n",
      "95%     1346.00\n",
      "99%     2032.89\n",
      "max     2460.00\n",
      "Name: Salary, dtype: float64\n"
     ]
    },
    {
     "data": {
      "image/png": "[encoded data removed]",
      "text/plain": [
       "<Figure size 640x480 with 1 Axes>"
      ]
     },
     "metadata": {},
     "output_type": "display_data"
    }
   ],
   "source": [
    "for col in num_cols:\n",
    "    num_summary(df, col, plot=True)"
   ]
  },
  {
   "cell_type": "code",
   "execution_count": 31,
   "id": "8ae4ca64",
   "metadata": {},
   "outputs": [],
   "source": [
    "# 4. Hedef Değişken Analizi (Analysis of Target Variable)"
   ]
  },
  {
   "cell_type": "code",
   "execution_count": 32,
   "id": "f635fa6b",
   "metadata": {},
   "outputs": [],
   "source": [
    "def target_summary_with_cat(dataframe, target, categorical_col):\n",
    "    print(pd.DataFrame({\"TARGET_MEAN\": dataframe.groupby(categorical_col)[target].mean()}), end=\"\\n\\n\\n\")"
   ]
  },
  {
   "cell_type": "code",
   "execution_count": 33,
   "id": "b4f36e77",
   "metadata": {},
   "outputs": [
    {
     "name": "stdout",
     "output_type": "stream",
     "text": [
      "        TARGET_MEAN\n",
      "League             \n",
      "A            542.00\n",
      "N            529.12\n",
      "\n",
      "\n",
      "          TARGET_MEAN\n",
      "Division             \n",
      "E              624.27\n",
      "W              450.88\n",
      "\n",
      "\n",
      "           TARGET_MEAN\n",
      "NewLeague             \n",
      "A               537.11\n",
      "N               534.55\n",
      "\n",
      "\n"
     ]
    }
   ],
   "source": [
    "for col in cat_cols:\n",
    "    target_summary_with_cat(df, \"Salary\", col)"
   ]
  },
  {
   "cell_type": "code",
   "execution_count": 34,
   "id": "c33a52fc",
   "metadata": {},
   "outputs": [],
   "source": [
    "# 5. Korelasyon Analizi (Analysis of Correlation)"
   ]
  },
  {
   "cell_type": "code",
   "execution_count": 35,
   "id": "1546a70c",
   "metadata": {},
   "outputs": [],
   "source": [
    "def high_correlated_cols(dataframe, plot=False, corr_th=0.90):\n",
    "    corr = dataframe.corr()\n",
    "    cor_matrix = corr.abs()\n",
    "    upper_triangle_matrix = cor_matrix.where(np.triu(np.ones(cor_matrix.shape), k=1).astype(np.bool))\n",
    "    drop_list = [col for col in upper_triangle_matrix.columns if any(upper_triangle_matrix[col] > corr_th)]\n",
    "    if plot:\n",
    "        import seaborn as sns\n",
    "        import matplotlib.pyplot as plt\n",
    "        sns.set(rc={'figure.figsize': (15, 15)})\n",
    "        sns.heatmap(corr, cmap=\"RdBu\", annot=True)\n",
    "        plt.show(block=True)\n",
    "    return drop_list"
   ]
  },
  {
   "cell_type": "code",
   "execution_count": 36,
   "id": "ff2b4457",
   "metadata": {},
   "outputs": [],
   "source": [
    "#high_correlated_cols(df, plot=True)\n",
    "\n",
    "#sürümden dolayı hata verdi\n",
    "\n",
    "#değerler 0dan uzaklaştıkça korelasyon gücü artar işareti negatif ya da pozitif yönlü korelasyon olduğunu söyler"
   ]
  },
  {
   "cell_type": "code",
   "execution_count": 37,
   "id": "20805462",
   "metadata": {},
   "outputs": [
    {
     "data": {
      "text/plain": [
       "AtBat         0\n",
       "Hits          0\n",
       "HmRun         0\n",
       "Runs          0\n",
       "RBI           0\n",
       "Walks         0\n",
       "Years         0\n",
       "CAtBat        0\n",
       "CHits         0\n",
       "CHmRun        0\n",
       "CRuns         0\n",
       "CRBI          0\n",
       "CWalks        0\n",
       "League        0\n",
       "Division      0\n",
       "PutOuts       0\n",
       "Assists       0\n",
       "Errors        0\n",
       "Salary       59\n",
       "NewLeague     0\n",
       "dtype: int64"
      ]
     },
     "execution_count": 37,
     "metadata": {},
     "output_type": "execute_result"
    }
   ],
   "source": [
    "df.isnull().sum()\n",
    "\n",
    "#targetta yani bağımlı değişkende eksik değer varsa bir şeyle doldurulmaz"
   ]
  },
  {
   "cell_type": "code",
   "execution_count": 38,
   "id": "ebde7359",
   "metadata": {},
   "outputs": [],
   "source": [
    "df.dropna(inplace=True)"
   ]
  },
  {
   "cell_type": "code",
   "execution_count": 39,
   "id": "c443d4d4",
   "metadata": {},
   "outputs": [
    {
     "data": {
      "text/plain": [
       "AtBat        0\n",
       "Hits         0\n",
       "HmRun        0\n",
       "Runs         0\n",
       "RBI          0\n",
       "Walks        0\n",
       "Years        0\n",
       "CAtBat       0\n",
       "CHits        0\n",
       "CHmRun       0\n",
       "CRuns        0\n",
       "CRBI         0\n",
       "CWalks       0\n",
       "League       0\n",
       "Division     0\n",
       "PutOuts      0\n",
       "Assists      0\n",
       "Errors       0\n",
       "Salary       0\n",
       "NewLeague    0\n",
       "dtype: int64"
      ]
     },
     "execution_count": 39,
     "metadata": {},
     "output_type": "execute_result"
    }
   ],
   "source": [
    "df.isnull().sum()"
   ]
  },
  {
   "cell_type": "code",
   "execution_count": 40,
   "id": "093cb49b",
   "metadata": {},
   "outputs": [],
   "source": [
    "# 3. Feature Extraction (Özellik Çıkarımı)"
   ]
  },
  {
   "cell_type": "code",
   "execution_count": 41,
   "id": "4a6aa0cb",
   "metadata": {},
   "outputs": [
    {
     "name": "stdout",
     "output_type": "stream",
     "text": [
      "Observations: 263\n",
      "Variables: 20\n",
      "cat_cols: 3\n",
      "num_cols: 17\n",
      "cat_but_car: 0\n",
      "num_but_cat: 0\n"
     ]
    }
   ],
   "source": [
    "cat_cols, num_cols, cat_but_car = grab_col_names(df)"
   ]
  },
  {
   "cell_type": "code",
   "execution_count": 42,
   "id": "9b6541fa",
   "metadata": {},
   "outputs": [
    {
     "data": {
      "text/plain": [
       "['League', 'Division', 'NewLeague']"
      ]
     },
     "execution_count": 42,
     "metadata": {},
     "output_type": "execute_result"
    }
   ],
   "source": [
    "cat_cols"
   ]
  },
  {
   "cell_type": "code",
   "execution_count": 43,
   "id": "0e470475",
   "metadata": {},
   "outputs": [
    {
     "data": {
      "text/plain": [
       "['AtBat',\n",
       " 'Hits',\n",
       " 'HmRun',\n",
       " 'Runs',\n",
       " 'RBI',\n",
       " 'Walks',\n",
       " 'Years',\n",
       " 'CAtBat',\n",
       " 'CHits',\n",
       " 'CHmRun',\n",
       " 'CRuns',\n",
       " 'CRBI',\n",
       " 'CWalks',\n",
       " 'PutOuts',\n",
       " 'Assists',\n",
       " 'Errors',\n",
       " 'Salary']"
      ]
     },
     "execution_count": 43,
     "metadata": {},
     "output_type": "execute_result"
    }
   ],
   "source": [
    "num_cols"
   ]
  },
  {
   "cell_type": "code",
   "execution_count": 44,
   "id": "4c6d7e9a",
   "metadata": {},
   "outputs": [
    {
     "data": {
      "text/plain": [
       "['AtBat',\n",
       " 'Hits',\n",
       " 'HmRun',\n",
       " 'Runs',\n",
       " 'RBI',\n",
       " 'Walks',\n",
       " 'CAtBat',\n",
       " 'CHits',\n",
       " 'CHmRun',\n",
       " 'CRuns',\n",
       " 'CRBI',\n",
       " 'CWalks',\n",
       " 'PutOuts',\n",
       " 'Assists',\n",
       " 'Errors']"
      ]
     },
     "execution_count": 44,
     "metadata": {},
     "output_type": "execute_result"
    }
   ],
   "source": [
    "new_num_cols = [col for col in num_cols if col not in [\"Salary\", \"Years\"]]\n",
    "new_num_cols"
   ]
  },
  {
   "cell_type": "code",
   "execution_count": 45,
   "id": "8e0705e2",
   "metadata": {},
   "outputs": [],
   "source": [
    "df[new_num_cols] = df[new_num_cols] + 1"
   ]
  },
  {
   "cell_type": "code",
   "execution_count": 46,
   "id": "2b5bcf60",
   "metadata": {},
   "outputs": [
    {
     "data": {
      "text/html": [
       "<div>\n",
       "<style scoped>\n",
       "    .dataframe tbody tr th:only-of-type {\n",
       "        vertical-align: middle;\n",
       "    }\n",
       "\n",
       "    .dataframe tbody tr th {\n",
       "        vertical-align: top;\n",
       "    }\n",
       "\n",
       "    .dataframe thead th {\n",
       "        text-align: right;\n",
       "    }\n",
       "</style>\n",
       "<table border=\"1\" class=\"dataframe\">\n",
       "  <thead>\n",
       "    <tr style=\"text-align: right;\">\n",
       "      <th></th>\n",
       "      <th>AtBat</th>\n",
       "      <th>Hits</th>\n",
       "      <th>HmRun</th>\n",
       "      <th>Runs</th>\n",
       "      <th>RBI</th>\n",
       "      <th>Walks</th>\n",
       "      <th>CAtBat</th>\n",
       "      <th>CHits</th>\n",
       "      <th>CHmRun</th>\n",
       "      <th>CRuns</th>\n",
       "      <th>CRBI</th>\n",
       "      <th>CWalks</th>\n",
       "      <th>PutOuts</th>\n",
       "      <th>Assists</th>\n",
       "      <th>Errors</th>\n",
       "    </tr>\n",
       "  </thead>\n",
       "  <tbody>\n",
       "    <tr>\n",
       "      <th>1</th>\n",
       "      <td>316</td>\n",
       "      <td>82</td>\n",
       "      <td>8</td>\n",
       "      <td>25</td>\n",
       "      <td>39</td>\n",
       "      <td>40</td>\n",
       "      <td>3450</td>\n",
       "      <td>836.00</td>\n",
       "      <td>70</td>\n",
       "      <td>322</td>\n",
       "      <td>415</td>\n",
       "      <td>376.00</td>\n",
       "      <td>633</td>\n",
       "      <td>44</td>\n",
       "      <td>11</td>\n",
       "    </tr>\n",
       "    <tr>\n",
       "      <th>2</th>\n",
       "      <td>480</td>\n",
       "      <td>131</td>\n",
       "      <td>19</td>\n",
       "      <td>67</td>\n",
       "      <td>73</td>\n",
       "      <td>77</td>\n",
       "      <td>1625</td>\n",
       "      <td>458.00</td>\n",
       "      <td>64</td>\n",
       "      <td>225</td>\n",
       "      <td>267</td>\n",
       "      <td>264.00</td>\n",
       "      <td>881</td>\n",
       "      <td>83</td>\n",
       "      <td>15</td>\n",
       "    </tr>\n",
       "    <tr>\n",
       "      <th>3</th>\n",
       "      <td>497</td>\n",
       "      <td>142</td>\n",
       "      <td>21</td>\n",
       "      <td>66</td>\n",
       "      <td>79</td>\n",
       "      <td>38</td>\n",
       "      <td>5629</td>\n",
       "      <td>1576.00</td>\n",
       "      <td>205</td>\n",
       "      <td>829</td>\n",
       "      <td>839</td>\n",
       "      <td>355.00</td>\n",
       "      <td>201</td>\n",
       "      <td>12</td>\n",
       "      <td>4</td>\n",
       "    </tr>\n",
       "    <tr>\n",
       "      <th>4</th>\n",
       "      <td>322</td>\n",
       "      <td>88</td>\n",
       "      <td>11</td>\n",
       "      <td>40</td>\n",
       "      <td>43</td>\n",
       "      <td>31</td>\n",
       "      <td>397</td>\n",
       "      <td>102.00</td>\n",
       "      <td>13</td>\n",
       "      <td>49</td>\n",
       "      <td>47</td>\n",
       "      <td>34.00</td>\n",
       "      <td>806</td>\n",
       "      <td>41</td>\n",
       "      <td>5</td>\n",
       "    </tr>\n",
       "    <tr>\n",
       "      <th>5</th>\n",
       "      <td>595</td>\n",
       "      <td>170</td>\n",
       "      <td>5</td>\n",
       "      <td>75</td>\n",
       "      <td>52</td>\n",
       "      <td>36</td>\n",
       "      <td>4409</td>\n",
       "      <td>1134.00</td>\n",
       "      <td>20</td>\n",
       "      <td>502</td>\n",
       "      <td>337</td>\n",
       "      <td>195.00</td>\n",
       "      <td>283</td>\n",
       "      <td>422</td>\n",
       "      <td>26</td>\n",
       "    </tr>\n",
       "    <tr>\n",
       "      <th>...</th>\n",
       "      <td>...</td>\n",
       "      <td>...</td>\n",
       "      <td>...</td>\n",
       "      <td>...</td>\n",
       "      <td>...</td>\n",
       "      <td>...</td>\n",
       "      <td>...</td>\n",
       "      <td>...</td>\n",
       "      <td>...</td>\n",
       "      <td>...</td>\n",
       "      <td>...</td>\n",
       "      <td>...</td>\n",
       "      <td>...</td>\n",
       "      <td>...</td>\n",
       "      <td>...</td>\n",
       "    </tr>\n",
       "    <tr>\n",
       "      <th>317</th>\n",
       "      <td>498</td>\n",
       "      <td>128</td>\n",
       "      <td>8</td>\n",
       "      <td>66</td>\n",
       "      <td>49</td>\n",
       "      <td>38</td>\n",
       "      <td>2704</td>\n",
       "      <td>807.00</td>\n",
       "      <td>33</td>\n",
       "      <td>380</td>\n",
       "      <td>312</td>\n",
       "      <td>139.00</td>\n",
       "      <td>326</td>\n",
       "      <td>10</td>\n",
       "      <td>4</td>\n",
       "    </tr>\n",
       "    <tr>\n",
       "      <th>318</th>\n",
       "      <td>493</td>\n",
       "      <td>137</td>\n",
       "      <td>6</td>\n",
       "      <td>77</td>\n",
       "      <td>51</td>\n",
       "      <td>95</td>\n",
       "      <td>5512</td>\n",
       "      <td>1512.00</td>\n",
       "      <td>40</td>\n",
       "      <td>898</td>\n",
       "      <td>452</td>\n",
       "      <td>748.25</td>\n",
       "      <td>314</td>\n",
       "      <td>382</td>\n",
       "      <td>21</td>\n",
       "    </tr>\n",
       "    <tr>\n",
       "      <th>319</th>\n",
       "      <td>476</td>\n",
       "      <td>127</td>\n",
       "      <td>4</td>\n",
       "      <td>62</td>\n",
       "      <td>44</td>\n",
       "      <td>53</td>\n",
       "      <td>1701</td>\n",
       "      <td>434.00</td>\n",
       "      <td>8</td>\n",
       "      <td>218</td>\n",
       "      <td>94</td>\n",
       "      <td>147.00</td>\n",
       "      <td>38</td>\n",
       "      <td>114</td>\n",
       "      <td>8</td>\n",
       "    </tr>\n",
       "    <tr>\n",
       "      <th>320</th>\n",
       "      <td>574</td>\n",
       "      <td>145</td>\n",
       "      <td>10</td>\n",
       "      <td>86</td>\n",
       "      <td>61</td>\n",
       "      <td>79</td>\n",
       "      <td>3199</td>\n",
       "      <td>858.00</td>\n",
       "      <td>98</td>\n",
       "      <td>471</td>\n",
       "      <td>421</td>\n",
       "      <td>333.00</td>\n",
       "      <td>1315</td>\n",
       "      <td>132</td>\n",
       "      <td>13</td>\n",
       "    </tr>\n",
       "    <tr>\n",
       "      <th>321</th>\n",
       "      <td>632</td>\n",
       "      <td>171</td>\n",
       "      <td>10</td>\n",
       "      <td>78</td>\n",
       "      <td>45</td>\n",
       "      <td>32</td>\n",
       "      <td>4909</td>\n",
       "      <td>1458.00</td>\n",
       "      <td>31</td>\n",
       "      <td>776</td>\n",
       "      <td>358</td>\n",
       "      <td>250.00</td>\n",
       "      <td>409</td>\n",
       "      <td>5</td>\n",
       "      <td>4</td>\n",
       "    </tr>\n",
       "  </tbody>\n",
       "</table>\n",
       "<p>263 rows × 15 columns</p>\n",
       "</div>"
      ],
      "text/plain": [
       "     AtBat  Hits  HmRun  Runs  RBI  Walks  CAtBat   CHits  CHmRun  CRuns  \\\n",
       "1      316    82      8    25   39     40    3450  836.00      70    322   \n",
       "2      480   131     19    67   73     77    1625  458.00      64    225   \n",
       "3      497   142     21    66   79     38    5629 1576.00     205    829   \n",
       "4      322    88     11    40   43     31     397  102.00      13     49   \n",
       "5      595   170      5    75   52     36    4409 1134.00      20    502   \n",
       "..     ...   ...    ...   ...  ...    ...     ...     ...     ...    ...   \n",
       "317    498   128      8    66   49     38    2704  807.00      33    380   \n",
       "318    493   137      6    77   51     95    5512 1512.00      40    898   \n",
       "319    476   127      4    62   44     53    1701  434.00       8    218   \n",
       "320    574   145     10    86   61     79    3199  858.00      98    471   \n",
       "321    632   171     10    78   45     32    4909 1458.00      31    776   \n",
       "\n",
       "     CRBI  CWalks  PutOuts  Assists  Errors  \n",
       "1     415  376.00      633       44      11  \n",
       "2     267  264.00      881       83      15  \n",
       "3     839  355.00      201       12       4  \n",
       "4      47   34.00      806       41       5  \n",
       "5     337  195.00      283      422      26  \n",
       "..    ...     ...      ...      ...     ...  \n",
       "317   312  139.00      326       10       4  \n",
       "318   452  748.25      314      382      21  \n",
       "319    94  147.00       38      114       8  \n",
       "320   421  333.00     1315      132      13  \n",
       "321   358  250.00      409        5       4  \n",
       "\n",
       "[263 rows x 15 columns]"
      ]
     },
     "execution_count": 46,
     "metadata": {},
     "output_type": "execute_result"
    }
   ],
   "source": [
    "df[new_num_cols]"
   ]
  },
  {
   "cell_type": "code",
   "execution_count": 47,
   "id": "66a56fa2",
   "metadata": {},
   "outputs": [
    {
     "data": {
      "text/plain": [
       "Index(['ATBAT', 'HITS', 'HMRUN', 'RUNS', 'RBI', 'WALKS', 'YEARS', 'CATBAT',\n",
       "       'CHITS', 'CHMRUN', 'CRUNS', 'CRBI', 'CWALKS', 'LEAGUE', 'DIVISION',\n",
       "       'PUTOUTS', 'ASSISTS', 'ERRORS', 'SALARY', 'NEWLEAGUE'],\n",
       "      dtype='object')"
      ]
     },
     "execution_count": 47,
     "metadata": {},
     "output_type": "execute_result"
    }
   ],
   "source": [
    "df.columns = [col.upper() for col in df.columns]\n",
    "\n",
    "df.columns"
   ]
  },
  {
   "cell_type": "code",
   "execution_count": 48,
   "id": "18da1b10",
   "metadata": {},
   "outputs": [
    {
     "name": "stdout",
     "output_type": "stream",
     "text": [
      "Observations: 263\n",
      "Variables: 20\n",
      "cat_cols: 3\n",
      "num_cols: 17\n",
      "cat_but_car: 0\n",
      "num_but_cat: 0\n"
     ]
    }
   ],
   "source": [
    "cat_cols, num_cols, cat_but_car = grab_col_names(df)"
   ]
  },
  {
   "cell_type": "code",
   "execution_count": 49,
   "id": "57ebad1c",
   "metadata": {},
   "outputs": [],
   "source": [
    "#byukarıda ütün değişkenlere 1 eklenme nedeni : \n",
    "\n",
    "#df[\"NEW_C_RUNS_RATIO\"] = df[\"RUNS\"] / df[\"CRUNS\"]\n",
    "\n",
    "#mesela \"CRUNS\" içinde 0 olan değişkenler olabilir ve bu bölme işlemi sırasında 0a bölünme hatası alırız\n",
    "#bunun önüne geçmek için 1 eklendi"
   ]
  },
  {
   "cell_type": "code",
   "execution_count": 50,
   "id": "6394f3d8",
   "metadata": {},
   "outputs": [],
   "source": [
    "#Değişkenler üretiyoruz\n",
    "\n",
    "# RATIO OF VARIABLES\n",
    "\n",
    "# CAREER RUNS RATIO\n",
    "df[\"NEW_C_RUNS_RATIO\"] = df[\"RUNS\"] / df[\"CRUNS\"]\n",
    "# CAREER BAT RATIO\n",
    "df[\"NEW_C_ATBAT_RATIO\"] = df[\"ATBAT\"] / df[\"CATBAT\"]\n",
    "# CAREER HITS RATIO\n",
    "df[\"NEW_C_HITS_RATIO\"] = df[\"HITS\"] / df[\"CHITS\"]\n",
    "# CAREER HMRUN RATIO\n",
    "df[\"NEW_C_HMRUN_RATIO\"] = df[\"HMRUN\"] / df[\"CHMRUN\"]\n",
    "# CAREER RBI RATIO\n",
    "df[\"NEW_C_RBI_RATIO\"] = df[\"RBI\"] / df[\"CRBI\"]\n",
    "# CAREER WALKS RATIO\n",
    "df[\"NEW_C_WALKS_RATIO\"] = df[\"WALKS\"] / df[\"CWALKS\"]\n",
    "df[\"NEW_C_HIT_RATE\"] = df[\"CHITS\"] / df[\"CATBAT\"]\n",
    "# PLAYER TYPE : RUNNER\n",
    "df[\"NEW_C_RUNNER\"] = df[\"CRBI\"] / df[\"CHITS\"]\n",
    "# PLAYER TYPE : HIT AND RUN\n",
    "df[\"NEW_C_HIT-AND-RUN\"] = df[\"CRUNS\"] / df[\"CHITS\"]\n",
    "# MOST VALUABLE HIT RATIO IN HITS\n",
    "df[\"NEW_C_HMHITS_RATIO\"] = df[\"CHMRUN\"] / df[\"CHITS\"]\n",
    "# MOST VALUABLE HIT RATIO IN ALL SHOTS\n",
    "df[\"NEW_C_HMATBAT_RATIO\"] = df[\"CATBAT\"] / df[\"CHMRUN\"]"
   ]
  },
  {
   "cell_type": "code",
   "execution_count": 51,
   "id": "c704c3fd",
   "metadata": {},
   "outputs": [],
   "source": [
    "#Annual Averages\n",
    "df[\"NEW_CATBAT_MEAN\"] = df[\"CATBAT\"] / df[\"YEARS\"]\n",
    "df[\"NEW_CHITS_MEAN\"] = df[\"CHITS\"] / df[\"YEARS\"]\n",
    "df[\"NEW_CHMRUN_MEAN\"] = df[\"CHMRUN\"] / df[\"YEARS\"]\n",
    "df[\"NEW_CRUNS_MEAN\"] = df[\"CRUNS\"] / df[\"YEARS\"]\n",
    "df[\"NEW_CRBI_MEAN\"] = df[\"CRBI\"] / df[\"YEARS\"]\n",
    "df[\"NEW_CWALKS_MEAN\"] = df[\"CWALKS\"] / df[\"YEARS\"]"
   ]
  },
  {
   "cell_type": "code",
   "execution_count": 52,
   "id": "53781bac",
   "metadata": {},
   "outputs": [],
   "source": [
    "# PLAYER LEVEL\n",
    "df.loc[(df[\"YEARS\"] <= 2), \"NEW_YEARS_LEVEL\"] = \"Junior\"\n",
    "df.loc[(df[\"YEARS\"] > 2) & (df['YEARS'] <= 5), \"NEW_YEARS_LEVEL\"] = \"Mid\"\n",
    "df.loc[(df[\"YEARS\"] > 5) & (df['YEARS'] <= 10), \"NEW_YEARS_LEVEL\"] = \"Senior\"\n",
    "df.loc[(df[\"YEARS\"] > 10), \"NEW_YEARS_LEVEL\"] = \"Expert\""
   ]
  },
  {
   "cell_type": "code",
   "execution_count": 53,
   "id": "d5c63cb1",
   "metadata": {},
   "outputs": [],
   "source": [
    "# PLAYER LEVEL X DIVISION\n",
    "\n",
    "df.loc[(df[\"NEW_YEARS_LEVEL\"] == \"Junior\") & (df[\"DIVISION\"] == \"E\"), 'NEW_DIV_CAT'] = \"Junior-East\"\n",
    "df.loc[(df[\"NEW_YEARS_LEVEL\"] == \"Junior\") & (df[\"DIVISION\"] == \"W\"), 'NEW_DIV_CAT'] = \"Junior-West\"\n",
    "df.loc[(df[\"NEW_YEARS_LEVEL\"] == \"Mid\") & (df[\"DIVISION\"] == \"E\"), 'NEW_DIV_CAT'] = \"Mid-East\"\n",
    "df.loc[(df[\"NEW_YEARS_LEVEL\"] == \"Mid\") & (df[\"DIVISION\"] == \"W\"), 'NEW_DIV_CAT'] = \"Mid-West\"\n",
    "df.loc[(df[\"NEW_YEARS_LEVEL\"] == \"Senior\") & (df[\"DIVISION\"] == \"E\"), 'NEW_DIV_CAT'] = \"Senior-East\"\n",
    "df.loc[(df[\"NEW_YEARS_LEVEL\"] == \"Senior\") & (df[\"DIVISION\"] == \"W\"), 'NEW_DIV_CAT'] = \"Senior-West\"\n",
    "df.loc[(df[\"NEW_YEARS_LEVEL\"] == \"Expert\") & (df[\"DIVISION\"] == \"E\"), 'NEW_DIV_CAT'] = \"Expert-East\"\n",
    "df.loc[(df[\"NEW_YEARS_LEVEL\"] == \"Expert\") & (df[\"DIVISION\"] == \"W\"), 'NEW_DIV_CAT'] = \"Expert-West\""
   ]
  },
  {
   "cell_type": "code",
   "execution_count": 54,
   "id": "95490aaa",
   "metadata": {},
   "outputs": [],
   "source": [
    "# Player Promotion to Next League\n",
    "df.loc[(df[\"LEAGUE\"] == \"N\") & (df[\"NEWLEAGUE\"] == \"N\"), \"NEW_PLAYER_PROGRESS\"] = \"StandN\"\n",
    "df.loc[(df[\"LEAGUE\"] == \"A\") & (df[\"NEWLEAGUE\"] == \"A\"), \"NEW_PLAYER_PROGRESS\"] = \"StandA\"\n",
    "df.loc[(df[\"LEAGUE\"] == \"N\") & (df[\"NEWLEAGUE\"] == \"A\"), \"NEW_PLAYER_PROGRESS\"] = \"Descend\"\n",
    "df.loc[(df[\"LEAGUE\"] == \"A\") & (df[\"NEWLEAGUE\"] == \"N\"), \"NEW_PLAYER_PROGRESS\"] = \"Ascend\""
   ]
  },
  {
   "cell_type": "code",
   "execution_count": 55,
   "id": "d1453780",
   "metadata": {},
   "outputs": [
    {
     "name": "stdout",
     "output_type": "stream",
     "text": [
      "Observations: 263\n",
      "Variables: 40\n",
      "cat_cols: 6\n",
      "num_cols: 34\n",
      "cat_but_car: 0\n",
      "num_but_cat: 0\n"
     ]
    }
   ],
   "source": [
    "cat_cols, num_cols, cat_but_car = grab_col_names(df)\n",
    "\n",
    "#sayılar değişti"
   ]
  },
  {
   "cell_type": "code",
   "execution_count": 56,
   "id": "755b6649",
   "metadata": {},
   "outputs": [],
   "source": [
    "# Label Encoding\n",
    "\n",
    "#İki değerimiz varsa genelde bunu 1 ve 0 şeklinde ayırırız\n",
    "\n",
    "#İkiden fazla olduğunda : One-Hot-Encoding kullanılır\n",
    "\n",
    "#Ama ikiden fazla olan durumlarda sıralama varsa label encoding kullanılır"
   ]
  },
  {
   "cell_type": "code",
   "execution_count": 57,
   "id": "32076040",
   "metadata": {},
   "outputs": [
    {
     "data": {
      "text/plain": [
       "['LEAGUE', 'DIVISION', 'NEWLEAGUE']"
      ]
     },
     "execution_count": 57,
     "metadata": {},
     "output_type": "execute_result"
    }
   ],
   "source": [
    "binary_cols = [col for col in df.columns if\n",
    "               df[col].dtype not in [int, float] and df[col].nunique() == 2]\n",
    "\n",
    "binary_cols"
   ]
  },
  {
   "cell_type": "code",
   "execution_count": 58,
   "id": "5fe5e40e",
   "metadata": {},
   "outputs": [],
   "source": [
    "def label_encoder(dataframe, binary_col):\n",
    "    labelencoder = LabelEncoder()   #başta import ettik\n",
    "    dataframe[binary_col] = labelencoder.fit_transform(dataframe[binary_col])\n",
    "    return dataframe"
   ]
  },
  {
   "cell_type": "code",
   "execution_count": 59,
   "id": "87d335eb",
   "metadata": {},
   "outputs": [],
   "source": [
    "for col in binary_cols:\n",
    "    df = label_encoder(df, col)"
   ]
  },
  {
   "cell_type": "code",
   "execution_count": 60,
   "id": "ab8daf15",
   "metadata": {},
   "outputs": [
    {
     "data": {
      "text/html": [
       "<div>\n",
       "<style scoped>\n",
       "    .dataframe tbody tr th:only-of-type {\n",
       "        vertical-align: middle;\n",
       "    }\n",
       "\n",
       "    .dataframe tbody tr th {\n",
       "        vertical-align: top;\n",
       "    }\n",
       "\n",
       "    .dataframe thead th {\n",
       "        text-align: right;\n",
       "    }\n",
       "</style>\n",
       "<table border=\"1\" class=\"dataframe\">\n",
       "  <thead>\n",
       "    <tr style=\"text-align: right;\">\n",
       "      <th></th>\n",
       "      <th>LEAGUE</th>\n",
       "      <th>DIVISION</th>\n",
       "      <th>NEWLEAGUE</th>\n",
       "    </tr>\n",
       "  </thead>\n",
       "  <tbody>\n",
       "    <tr>\n",
       "      <th>1</th>\n",
       "      <td>1</td>\n",
       "      <td>1</td>\n",
       "      <td>1</td>\n",
       "    </tr>\n",
       "    <tr>\n",
       "      <th>2</th>\n",
       "      <td>0</td>\n",
       "      <td>1</td>\n",
       "      <td>0</td>\n",
       "    </tr>\n",
       "    <tr>\n",
       "      <th>3</th>\n",
       "      <td>1</td>\n",
       "      <td>0</td>\n",
       "      <td>1</td>\n",
       "    </tr>\n",
       "    <tr>\n",
       "      <th>4</th>\n",
       "      <td>1</td>\n",
       "      <td>0</td>\n",
       "      <td>1</td>\n",
       "    </tr>\n",
       "    <tr>\n",
       "      <th>5</th>\n",
       "      <td>0</td>\n",
       "      <td>1</td>\n",
       "      <td>0</td>\n",
       "    </tr>\n",
       "  </tbody>\n",
       "</table>\n",
       "</div>"
      ],
      "text/plain": [
       "   LEAGUE  DIVISION  NEWLEAGUE\n",
       "1       1         1          1\n",
       "2       0         1          0\n",
       "3       1         0          1\n",
       "4       1         0          1\n",
       "5       0         1          0"
      ]
     },
     "execution_count": 60,
     "metadata": {},
     "output_type": "execute_result"
    }
   ],
   "source": [
    "df[binary_cols].head()"
   ]
  },
  {
   "cell_type": "code",
   "execution_count": 64,
   "id": "8b819a21",
   "metadata": {},
   "outputs": [],
   "source": [
    "# Rare Encoding\n",
    "\n",
    "#önce nadir kolonları yakalamalıyız\n",
    "#nadir kolonların olması dezavantaj çünkü verinin öğrenebileceği kadar tekrar/örnek yok"
   ]
  },
  {
   "cell_type": "code",
   "execution_count": 68,
   "id": "1ea4e653",
   "metadata": {},
   "outputs": [],
   "source": [
    "def rare_analyser(dataframe, target, cat_cols):\n",
    "    for col in cat_cols:\n",
    "        print(col, \":\", len(dataframe[col].value_counts()))\n",
    "        print(pd.DataFrame({\"COUNT\": dataframe[col].value_counts(),\n",
    "                            \"RATIO\": dataframe[col].value_counts() / len(dataframe),\n",
    "                            \"TARGET_MEAN\": dataframe.groupby(col)[target].mean()}), end=\"\\n\\n\\n\")"
   ]
  },
  {
   "cell_type": "code",
   "execution_count": 69,
   "id": "ef831d90",
   "metadata": {},
   "outputs": [],
   "source": [
    "def rare_encoder(dataframe, rare_perc, cat_cols):  #rare_perc = rare yüzdesi\n",
    "    \n",
    "    #df kopyalama işlemi yapılma nedeni : orijinal dfimizin yapacağımız işlemden etkilenmesini istemiyoruz\n",
    "    temp_df = dataframe.copy() \n",
    "    \n",
    "    rare_columns = [col for col in cat_cols if (temp_df[col].value_counts() / len(temp_df) < rare_perc).sum() > 1]\n",
    "\n",
    "    for col in rare_columns:\n",
    "        tmp = temp_df[col].value_counts() / len(temp_df)\n",
    "        rare_labels = tmp[tmp < rare_perc].index\n",
    "        temp_df[col] = np.where(temp_df[col].isin(rare_labels), 'Rare', temp_df[col])\n",
    "\n",
    "    return temp_df"
   ]
  },
  {
   "cell_type": "code",
   "execution_count": 70,
   "id": "69dafa95",
   "metadata": {},
   "outputs": [
    {
     "name": "stdout",
     "output_type": "stream",
     "text": [
      "LEAGUE : 2\n",
      "   COUNT  RATIO  TARGET_MEAN\n",
      "0    139   0.53       542.00\n",
      "1    124   0.47       529.12\n",
      "\n",
      "\n",
      "DIVISION : 2\n",
      "   COUNT  RATIO  TARGET_MEAN\n",
      "0    129   0.49       624.27\n",
      "1    134   0.51       450.88\n",
      "\n",
      "\n",
      "NEWLEAGUE : 2\n",
      "   COUNT  RATIO  TARGET_MEAN\n",
      "0    141   0.54       537.11\n",
      "1    122   0.46       534.55\n",
      "\n",
      "\n",
      "NEW_YEARS_LEVEL : 4\n",
      "        COUNT  RATIO  TARGET_MEAN\n",
      "Expert     65   0.25       755.11\n",
      "Junior     38   0.14       186.92\n",
      "Mid        78   0.30       359.34\n",
      "Senior     82   0.31       691.89\n",
      "\n",
      "\n",
      "NEW_DIV_CAT : 8\n",
      "             COUNT  RATIO  TARGET_MEAN\n",
      "Expert-East     32   0.12       809.78\n",
      "Expert-West     33   0.13       702.10\n",
      "Junior-East     16   0.06       229.30\n",
      "Junior-West     22   0.08       156.09\n",
      "Mid-East        37   0.14       427.91\n",
      "Mid-West        41   0.16       297.46\n",
      "Senior-East     44   0.17       798.11\n",
      "Senior-West     38   0.14       568.90\n",
      "\n",
      "\n",
      "NEW_PLAYER_PROGRESS : 4\n",
      "         COUNT  RATIO  TARGET_MEAN\n",
      "Ascend       8   0.03       558.12\n",
      "Descend     10   0.04       486.00\n",
      "StandA     131   0.50       541.01\n",
      "StandN     114   0.43       532.90\n",
      "\n",
      "\n"
     ]
    }
   ],
   "source": [
    "rare_analyser(df,\"SALARY\", cat_cols)\n",
    "df = rare_encoder(df, 0.01, cat_cols)"
   ]
  },
  {
   "cell_type": "code",
   "execution_count": 71,
   "id": "00eef9ae",
   "metadata": {},
   "outputs": [],
   "source": [
    "# 6. One-Hot Encoding\n",
    "\n",
    "#kategorik değişkenleri nümerik olarak ifade etmek istiyoruz çünkü modellerimiz bu şekilde istiyor"
   ]
  },
  {
   "cell_type": "code",
   "execution_count": 74,
   "id": "87f415b6",
   "metadata": {},
   "outputs": [
    {
     "data": {
      "text/plain": [
       "['NEW_YEARS_LEVEL', 'NEW_DIV_CAT', 'NEW_PLAYER_PROGRESS']"
      ]
     },
     "execution_count": 74,
     "metadata": {},
     "output_type": "execute_result"
    }
   ],
   "source": [
    "ohe_cols = [col for col in df.columns if 10 >= df[col].nunique() > 2]\n",
    "\n",
    "ohe_cols"
   ]
  },
  {
   "cell_type": "code",
   "execution_count": 75,
   "id": "a7002d5c",
   "metadata": {},
   "outputs": [],
   "source": [
    "def one_hot_encoder(dataframe, categorical_cols, drop_first=False):\n",
    "    dataframe = pd.get_dummies(dataframe, columns=categorical_cols, drop_first=drop_first)\n",
    "    return dataframe"
   ]
  },
  {
   "cell_type": "code",
   "execution_count": 76,
   "id": "004b64a8",
   "metadata": {},
   "outputs": [],
   "source": [
    "df = one_hot_encoder(df, ohe_cols, drop_first=True)\n",
    "\n",
    "#drop_first : dummie değişken tuzağı = sahip olduğu kolonları 1 eksik kolon sayısıyla yapabiliriz true diyerek bunu aktif ettik\n",
    "#yapılmasa da olur"
   ]
  },
  {
   "cell_type": "code",
   "execution_count": 79,
   "id": "78f26ee0",
   "metadata": {},
   "outputs": [
    {
     "name": "stdout",
     "output_type": "stream",
     "text": [
      "Observations: 263\n",
      "Variables: 50\n",
      "cat_cols: 16\n",
      "num_cols: 34\n",
      "cat_but_car: 0\n",
      "num_but_cat: 16\n"
     ]
    }
   ],
   "source": [
    "cat_cols, num_cols, cat_but_car = grab_col_names(df)\n",
    "\n",
    "#veri setimiz büyümüştü"
   ]
  },
  {
   "cell_type": "code",
   "execution_count": 78,
   "id": "a139f9fc",
   "metadata": {},
   "outputs": [],
   "source": [
    "num_cols.remove(\"SALARY\")\n",
    "\n",
    "#kaldırdık çünkü aşağıda robust scaler yapacağız"
   ]
  },
  {
   "cell_type": "code",
   "execution_count": 80,
   "id": "e9800d48",
   "metadata": {},
   "outputs": [],
   "source": [
    "#bir modelde eğitmeden önce neden verilerimizi scaler ederiz?\n",
    "\n",
    "#verilerimizi aynı ölçekte görmek isteriz, verinin yapısı değil ölçeği değişir\n",
    "\n",
    "#performans odaklı : küçük sayılarla çalışmak modellerin performansını artırır"
   ]
  },
  {
   "cell_type": "code",
   "execution_count": 81,
   "id": "2daba1bb",
   "metadata": {},
   "outputs": [],
   "source": [
    "# 7. Robust-Scaler\n",
    "\n",
    "#Avantajı : aykırı değerlere dirençli yani aykırı değerlerden çok etkilenmiyor"
   ]
  },
  {
   "cell_type": "code",
   "execution_count": 82,
   "id": "4244816a",
   "metadata": {},
   "outputs": [],
   "source": [
    "#from sklearn.preprocessing import RobustScaler diyerek başta import ettik\n",
    "\n",
    "for col in num_cols:\n",
    "    transformer = RobustScaler().fit(df[[col]])\n",
    "    df[col] = transformer.transform(df[[col]])"
   ]
  },
  {
   "cell_type": "code",
   "execution_count": 83,
   "id": "e13eae08",
   "metadata": {},
   "outputs": [],
   "source": [
    "# Multiple Linear Regression"
   ]
  },
  {
   "cell_type": "code",
   "execution_count": 84,
   "id": "a0faae4a",
   "metadata": {},
   "outputs": [],
   "source": [
    "X = df.drop(\"SALARY\", axis=1)  #SALARY hariç , bunlar bağımsız değişkenler\n",
    "y = df[[\"SALARY\"]]             #bağımlı değişken"
   ]
  },
  {
   "cell_type": "code",
   "execution_count": 85,
   "id": "45aaec49",
   "metadata": {},
   "outputs": [
    {
     "data": {
      "text/html": [
       "<div>\n",
       "<style scoped>\n",
       "    .dataframe tbody tr th:only-of-type {\n",
       "        vertical-align: middle;\n",
       "    }\n",
       "\n",
       "    .dataframe tbody tr th {\n",
       "        vertical-align: top;\n",
       "    }\n",
       "\n",
       "    .dataframe thead th {\n",
       "        text-align: right;\n",
       "    }\n",
       "</style>\n",
       "<table border=\"1\" class=\"dataframe\">\n",
       "  <thead>\n",
       "    <tr style=\"text-align: right;\">\n",
       "      <th></th>\n",
       "      <th>ATBAT</th>\n",
       "      <th>HITS</th>\n",
       "      <th>HMRUN</th>\n",
       "      <th>RUNS</th>\n",
       "      <th>RBI</th>\n",
       "      <th>WALKS</th>\n",
       "      <th>YEARS</th>\n",
       "      <th>CATBAT</th>\n",
       "      <th>CHITS</th>\n",
       "      <th>CHMRUN</th>\n",
       "      <th>...</th>\n",
       "      <th>NEW_DIV_CAT_Expert-West</th>\n",
       "      <th>NEW_DIV_CAT_Junior-East</th>\n",
       "      <th>NEW_DIV_CAT_Junior-West</th>\n",
       "      <th>NEW_DIV_CAT_Mid-East</th>\n",
       "      <th>NEW_DIV_CAT_Mid-West</th>\n",
       "      <th>NEW_DIV_CAT_Senior-East</th>\n",
       "      <th>NEW_DIV_CAT_Senior-West</th>\n",
       "      <th>NEW_PLAYER_PROGRESS_Descend</th>\n",
       "      <th>NEW_PLAYER_PROGRESS_StandA</th>\n",
       "      <th>NEW_PLAYER_PROGRESS_StandN</th>\n",
       "    </tr>\n",
       "  </thead>\n",
       "  <tbody>\n",
       "    <tr>\n",
       "      <th>1</th>\n",
       "      <td>-0.40</td>\n",
       "      <td>-0.31</td>\n",
       "      <td>-0.15</td>\n",
       "      <td>-0.71</td>\n",
       "      <td>-0.22</td>\n",
       "      <td>0.06</td>\n",
       "      <td>1.33</td>\n",
       "      <td>0.50</td>\n",
       "      <td>0.38</td>\n",
       "      <td>0.37</td>\n",
       "      <td>...</td>\n",
       "      <td>1</td>\n",
       "      <td>0</td>\n",
       "      <td>0</td>\n",
       "      <td>0</td>\n",
       "      <td>0</td>\n",
       "      <td>0</td>\n",
       "      <td>0</td>\n",
       "      <td>0</td>\n",
       "      <td>0</td>\n",
       "      <td>1</td>\n",
       "    </tr>\n",
       "    <tr>\n",
       "      <th>2</th>\n",
       "      <td>0.27</td>\n",
       "      <td>0.39</td>\n",
       "      <td>0.69</td>\n",
       "      <td>0.35</td>\n",
       "      <td>0.61</td>\n",
       "      <td>1.15</td>\n",
       "      <td>-0.50</td>\n",
       "      <td>-0.10</td>\n",
       "      <td>-0.07</td>\n",
       "      <td>0.30</td>\n",
       "      <td>...</td>\n",
       "      <td>0</td>\n",
       "      <td>0</td>\n",
       "      <td>0</td>\n",
       "      <td>0</td>\n",
       "      <td>1</td>\n",
       "      <td>0</td>\n",
       "      <td>0</td>\n",
       "      <td>0</td>\n",
       "      <td>1</td>\n",
       "      <td>0</td>\n",
       "    </tr>\n",
       "    <tr>\n",
       "      <th>3</th>\n",
       "      <td>0.34</td>\n",
       "      <td>0.54</td>\n",
       "      <td>0.85</td>\n",
       "      <td>0.33</td>\n",
       "      <td>0.76</td>\n",
       "      <td>0.00</td>\n",
       "      <td>0.83</td>\n",
       "      <td>1.21</td>\n",
       "      <td>1.26</td>\n",
       "      <td>2.12</td>\n",
       "      <td>...</td>\n",
       "      <td>0</td>\n",
       "      <td>0</td>\n",
       "      <td>0</td>\n",
       "      <td>0</td>\n",
       "      <td>0</td>\n",
       "      <td>0</td>\n",
       "      <td>0</td>\n",
       "      <td>0</td>\n",
       "      <td>0</td>\n",
       "      <td>1</td>\n",
       "    </tr>\n",
       "    <tr>\n",
       "      <th>4</th>\n",
       "      <td>-0.38</td>\n",
       "      <td>-0.23</td>\n",
       "      <td>0.08</td>\n",
       "      <td>-0.33</td>\n",
       "      <td>-0.12</td>\n",
       "      <td>-0.21</td>\n",
       "      <td>-0.67</td>\n",
       "      <td>-0.50</td>\n",
       "      <td>-0.49</td>\n",
       "      <td>-0.36</td>\n",
       "      <td>...</td>\n",
       "      <td>0</td>\n",
       "      <td>1</td>\n",
       "      <td>0</td>\n",
       "      <td>0</td>\n",
       "      <td>0</td>\n",
       "      <td>0</td>\n",
       "      <td>0</td>\n",
       "      <td>0</td>\n",
       "      <td>0</td>\n",
       "      <td>1</td>\n",
       "    </tr>\n",
       "    <tr>\n",
       "      <th>5</th>\n",
       "      <td>0.74</td>\n",
       "      <td>0.94</td>\n",
       "      <td>-0.38</td>\n",
       "      <td>0.56</td>\n",
       "      <td>0.10</td>\n",
       "      <td>-0.06</td>\n",
       "      <td>0.83</td>\n",
       "      <td>0.81</td>\n",
       "      <td>0.73</td>\n",
       "      <td>-0.27</td>\n",
       "      <td>...</td>\n",
       "      <td>1</td>\n",
       "      <td>0</td>\n",
       "      <td>0</td>\n",
       "      <td>0</td>\n",
       "      <td>0</td>\n",
       "      <td>0</td>\n",
       "      <td>0</td>\n",
       "      <td>0</td>\n",
       "      <td>1</td>\n",
       "      <td>0</td>\n",
       "    </tr>\n",
       "    <tr>\n",
       "      <th>...</th>\n",
       "      <td>...</td>\n",
       "      <td>...</td>\n",
       "      <td>...</td>\n",
       "      <td>...</td>\n",
       "      <td>...</td>\n",
       "      <td>...</td>\n",
       "      <td>...</td>\n",
       "      <td>...</td>\n",
       "      <td>...</td>\n",
       "      <td>...</td>\n",
       "      <td>...</td>\n",
       "      <td>...</td>\n",
       "      <td>...</td>\n",
       "      <td>...</td>\n",
       "      <td>...</td>\n",
       "      <td>...</td>\n",
       "      <td>...</td>\n",
       "      <td>...</td>\n",
       "      <td>...</td>\n",
       "      <td>...</td>\n",
       "      <td>...</td>\n",
       "    </tr>\n",
       "    <tr>\n",
       "      <th>317</th>\n",
       "      <td>0.34</td>\n",
       "      <td>0.34</td>\n",
       "      <td>-0.15</td>\n",
       "      <td>0.33</td>\n",
       "      <td>0.02</td>\n",
       "      <td>0.00</td>\n",
       "      <td>-0.17</td>\n",
       "      <td>0.25</td>\n",
       "      <td>0.34</td>\n",
       "      <td>-0.10</td>\n",
       "      <td>...</td>\n",
       "      <td>0</td>\n",
       "      <td>0</td>\n",
       "      <td>0</td>\n",
       "      <td>1</td>\n",
       "      <td>0</td>\n",
       "      <td>0</td>\n",
       "      <td>0</td>\n",
       "      <td>0</td>\n",
       "      <td>0</td>\n",
       "      <td>1</td>\n",
       "    </tr>\n",
       "    <tr>\n",
       "      <th>318</th>\n",
       "      <td>0.32</td>\n",
       "      <td>0.47</td>\n",
       "      <td>-0.31</td>\n",
       "      <td>0.61</td>\n",
       "      <td>0.07</td>\n",
       "      <td>1.68</td>\n",
       "      <td>1.00</td>\n",
       "      <td>1.17</td>\n",
       "      <td>1.18</td>\n",
       "      <td>-0.01</td>\n",
       "      <td>...</td>\n",
       "      <td>0</td>\n",
       "      <td>0</td>\n",
       "      <td>0</td>\n",
       "      <td>0</td>\n",
       "      <td>0</td>\n",
       "      <td>0</td>\n",
       "      <td>0</td>\n",
       "      <td>0</td>\n",
       "      <td>1</td>\n",
       "      <td>0</td>\n",
       "    </tr>\n",
       "    <tr>\n",
       "      <th>319</th>\n",
       "      <td>0.25</td>\n",
       "      <td>0.33</td>\n",
       "      <td>-0.46</td>\n",
       "      <td>0.23</td>\n",
       "      <td>-0.10</td>\n",
       "      <td>0.44</td>\n",
       "      <td>0.00</td>\n",
       "      <td>-0.08</td>\n",
       "      <td>-0.10</td>\n",
       "      <td>-0.43</td>\n",
       "      <td>...</td>\n",
       "      <td>0</td>\n",
       "      <td>0</td>\n",
       "      <td>0</td>\n",
       "      <td>0</td>\n",
       "      <td>0</td>\n",
       "      <td>0</td>\n",
       "      <td>1</td>\n",
       "      <td>0</td>\n",
       "      <td>1</td>\n",
       "      <td>0</td>\n",
       "    </tr>\n",
       "    <tr>\n",
       "      <th>320</th>\n",
       "      <td>0.66</td>\n",
       "      <td>0.59</td>\n",
       "      <td>0.00</td>\n",
       "      <td>0.84</td>\n",
       "      <td>0.32</td>\n",
       "      <td>1.21</td>\n",
       "      <td>0.33</td>\n",
       "      <td>0.42</td>\n",
       "      <td>0.40</td>\n",
       "      <td>0.74</td>\n",
       "      <td>...</td>\n",
       "      <td>0</td>\n",
       "      <td>0</td>\n",
       "      <td>0</td>\n",
       "      <td>0</td>\n",
       "      <td>0</td>\n",
       "      <td>1</td>\n",
       "      <td>0</td>\n",
       "      <td>0</td>\n",
       "      <td>1</td>\n",
       "      <td>0</td>\n",
       "    </tr>\n",
       "    <tr>\n",
       "      <th>321</th>\n",
       "      <td>0.90</td>\n",
       "      <td>0.96</td>\n",
       "      <td>0.00</td>\n",
       "      <td>0.63</td>\n",
       "      <td>-0.07</td>\n",
       "      <td>-0.18</td>\n",
       "      <td>0.83</td>\n",
       "      <td>0.98</td>\n",
       "      <td>1.12</td>\n",
       "      <td>-0.13</td>\n",
       "      <td>...</td>\n",
       "      <td>1</td>\n",
       "      <td>0</td>\n",
       "      <td>0</td>\n",
       "      <td>0</td>\n",
       "      <td>0</td>\n",
       "      <td>0</td>\n",
       "      <td>0</td>\n",
       "      <td>0</td>\n",
       "      <td>1</td>\n",
       "      <td>0</td>\n",
       "    </tr>\n",
       "  </tbody>\n",
       "</table>\n",
       "<p>263 rows × 49 columns</p>\n",
       "</div>"
      ],
      "text/plain": [
       "     ATBAT  HITS  HMRUN  RUNS   RBI  WALKS  YEARS  CATBAT  CHITS  CHMRUN  ...  \\\n",
       "1    -0.40 -0.31  -0.15 -0.71 -0.22   0.06   1.33    0.50   0.38    0.37  ...   \n",
       "2     0.27  0.39   0.69  0.35  0.61   1.15  -0.50   -0.10  -0.07    0.30  ...   \n",
       "3     0.34  0.54   0.85  0.33  0.76   0.00   0.83    1.21   1.26    2.12  ...   \n",
       "4    -0.38 -0.23   0.08 -0.33 -0.12  -0.21  -0.67   -0.50  -0.49   -0.36  ...   \n",
       "5     0.74  0.94  -0.38  0.56  0.10  -0.06   0.83    0.81   0.73   -0.27  ...   \n",
       "..     ...   ...    ...   ...   ...    ...    ...     ...    ...     ...  ...   \n",
       "317   0.34  0.34  -0.15  0.33  0.02   0.00  -0.17    0.25   0.34   -0.10  ...   \n",
       "318   0.32  0.47  -0.31  0.61  0.07   1.68   1.00    1.17   1.18   -0.01  ...   \n",
       "319   0.25  0.33  -0.46  0.23 -0.10   0.44   0.00   -0.08  -0.10   -0.43  ...   \n",
       "320   0.66  0.59   0.00  0.84  0.32   1.21   0.33    0.42   0.40    0.74  ...   \n",
       "321   0.90  0.96   0.00  0.63 -0.07  -0.18   0.83    0.98   1.12   -0.13  ...   \n",
       "\n",
       "     NEW_DIV_CAT_Expert-West  NEW_DIV_CAT_Junior-East  \\\n",
       "1                          1                        0   \n",
       "2                          0                        0   \n",
       "3                          0                        0   \n",
       "4                          0                        1   \n",
       "5                          1                        0   \n",
       "..                       ...                      ...   \n",
       "317                        0                        0   \n",
       "318                        0                        0   \n",
       "319                        0                        0   \n",
       "320                        0                        0   \n",
       "321                        1                        0   \n",
       "\n",
       "     NEW_DIV_CAT_Junior-West  NEW_DIV_CAT_Mid-East  NEW_DIV_CAT_Mid-West  \\\n",
       "1                          0                     0                     0   \n",
       "2                          0                     0                     1   \n",
       "3                          0                     0                     0   \n",
       "4                          0                     0                     0   \n",
       "5                          0                     0                     0   \n",
       "..                       ...                   ...                   ...   \n",
       "317                        0                     1                     0   \n",
       "318                        0                     0                     0   \n",
       "319                        0                     0                     0   \n",
       "320                        0                     0                     0   \n",
       "321                        0                     0                     0   \n",
       "\n",
       "     NEW_DIV_CAT_Senior-East  NEW_DIV_CAT_Senior-West  \\\n",
       "1                          0                        0   \n",
       "2                          0                        0   \n",
       "3                          0                        0   \n",
       "4                          0                        0   \n",
       "5                          0                        0   \n",
       "..                       ...                      ...   \n",
       "317                        0                        0   \n",
       "318                        0                        0   \n",
       "319                        0                        1   \n",
       "320                        1                        0   \n",
       "321                        0                        0   \n",
       "\n",
       "     NEW_PLAYER_PROGRESS_Descend  NEW_PLAYER_PROGRESS_StandA  \\\n",
       "1                              0                           0   \n",
       "2                              0                           1   \n",
       "3                              0                           0   \n",
       "4                              0                           0   \n",
       "5                              0                           1   \n",
       "..                           ...                         ...   \n",
       "317                            0                           0   \n",
       "318                            0                           1   \n",
       "319                            0                           1   \n",
       "320                            0                           1   \n",
       "321                            0                           1   \n",
       "\n",
       "     NEW_PLAYER_PROGRESS_StandN  \n",
       "1                             1  \n",
       "2                             0  \n",
       "3                             1  \n",
       "4                             1  \n",
       "5                             0  \n",
       "..                          ...  \n",
       "317                           1  \n",
       "318                           0  \n",
       "319                           0  \n",
       "320                           0  \n",
       "321                           0  \n",
       "\n",
       "[263 rows x 49 columns]"
      ]
     },
     "execution_count": 85,
     "metadata": {},
     "output_type": "execute_result"
    }
   ],
   "source": [
    "X"
   ]
  },
  {
   "cell_type": "code",
   "execution_count": 86,
   "id": "b683f146",
   "metadata": {},
   "outputs": [
    {
     "data": {
      "text/html": [
       "<div>\n",
       "<style scoped>\n",
       "    .dataframe tbody tr th:only-of-type {\n",
       "        vertical-align: middle;\n",
       "    }\n",
       "\n",
       "    .dataframe tbody tr th {\n",
       "        vertical-align: top;\n",
       "    }\n",
       "\n",
       "    .dataframe thead th {\n",
       "        text-align: right;\n",
       "    }\n",
       "</style>\n",
       "<table border=\"1\" class=\"dataframe\">\n",
       "  <thead>\n",
       "    <tr style=\"text-align: right;\">\n",
       "      <th></th>\n",
       "      <th>SALARY</th>\n",
       "    </tr>\n",
       "  </thead>\n",
       "  <tbody>\n",
       "    <tr>\n",
       "      <th>1</th>\n",
       "      <td>0.09</td>\n",
       "    </tr>\n",
       "    <tr>\n",
       "      <th>2</th>\n",
       "      <td>0.10</td>\n",
       "    </tr>\n",
       "    <tr>\n",
       "      <th>3</th>\n",
       "      <td>0.13</td>\n",
       "    </tr>\n",
       "    <tr>\n",
       "      <th>4</th>\n",
       "      <td>-0.60</td>\n",
       "    </tr>\n",
       "    <tr>\n",
       "      <th>5</th>\n",
       "      <td>0.58</td>\n",
       "    </tr>\n",
       "    <tr>\n",
       "      <th>...</th>\n",
       "      <td>...</td>\n",
       "    </tr>\n",
       "    <tr>\n",
       "      <th>317</th>\n",
       "      <td>0.49</td>\n",
       "    </tr>\n",
       "    <tr>\n",
       "      <th>318</th>\n",
       "      <td>0.80</td>\n",
       "    </tr>\n",
       "    <tr>\n",
       "      <th>319</th>\n",
       "      <td>-0.07</td>\n",
       "    </tr>\n",
       "    <tr>\n",
       "      <th>320</th>\n",
       "      <td>0.96</td>\n",
       "    </tr>\n",
       "    <tr>\n",
       "      <th>321</th>\n",
       "      <td>1.03</td>\n",
       "    </tr>\n",
       "  </tbody>\n",
       "</table>\n",
       "<p>263 rows × 1 columns</p>\n",
       "</div>"
      ],
      "text/plain": [
       "     SALARY\n",
       "1      0.09\n",
       "2      0.10\n",
       "3      0.13\n",
       "4     -0.60\n",
       "5      0.58\n",
       "..      ...\n",
       "317    0.49\n",
       "318    0.80\n",
       "319   -0.07\n",
       "320    0.96\n",
       "321    1.03\n",
       "\n",
       "[263 rows x 1 columns]"
      ]
     },
     "execution_count": 86,
     "metadata": {},
     "output_type": "execute_result"
    }
   ],
   "source": [
    "y"
   ]
  },
  {
   "cell_type": "code",
   "execution_count": 87,
   "id": "6862b26a",
   "metadata": {},
   "outputs": [],
   "source": [
    "# Model"
   ]
  },
  {
   "cell_type": "code",
   "execution_count": 91,
   "id": "43c168af",
   "metadata": {},
   "outputs": [],
   "source": [
    "X_train, X_test, y_train, y_test = train_test_split(X,y,test_size=0.20, random_state=1)\n",
    "\n",
    "#from sklearn.model_selection import train_test_split, cross_val_score , başta import ettik\n",
    "\n",
    "#train_test_split sahip olduğumuz veriyi bizim için parçalıyor , verinin %20sine test %80ine train dedik\n",
    "\n",
    "#random_state'i farklı sonuçlar almamak için bir sayıya eşitledik\n",
    "\n",
    "#train_test_split yaparak, aslında holdout yöntemini uyguluyoruz"
   ]
  },
  {
   "cell_type": "code",
   "execution_count": 94,
   "id": "5c090f98",
   "metadata": {},
   "outputs": [],
   "source": [
    "reg_model = LinearRegression()\n",
    "\n",
    "#LinearRegression'u da import etmiştik"
   ]
  },
  {
   "cell_type": "code",
   "execution_count": 96,
   "id": "d5f7e518",
   "metadata": {},
   "outputs": [
    {
     "data": {
      "text/html": [
       "<style>#sk-container-id-3 {color: black;}#sk-container-id-3 pre{padding: 0;}#sk-container-id-3 div.sk-toggleable {background-color: white;}#sk-container-id-3 label.sk-toggleable__label {cursor: pointer;display: block;width: 100%;margin-bottom: 0;padding: 0.3em;box-sizing: border-box;text-align: center;}#sk-container-id-3 label.sk-toggleable__label-arrow:before {content: \"▸\";float: left;margin-right: 0.25em;color: #696969;}#sk-container-id-3 label.sk-toggleable__label-arrow:hover:before {color: black;}#sk-container-id-3 div.sk-estimator:hover label.sk-toggleable__label-arrow:before {color: black;}#sk-container-id-3 div.sk-toggleable__content {max-height: 0;max-width: 0;overflow: hidden;text-align: left;background-color: #f0f8ff;}#sk-container-id-3 div.sk-toggleable__content pre {margin: 0.2em;color: black;border-radius: 0.25em;background-color: #f0f8ff;}#sk-container-id-3 input.sk-toggleable__control:checked~div.sk-toggleable__content {max-height: 200px;max-width: 100%;overflow: auto;}#sk-container-id-3 input.sk-toggleable__control:checked~label.sk-toggleable__label-arrow:before {content: \"▾\";}#sk-container-id-3 div.sk-estimator input.sk-toggleable__control:checked~label.sk-toggleable__label {background-color: #d4ebff;}#sk-container-id-3 div.sk-label input.sk-toggleable__control:checked~label.sk-toggleable__label {background-color: #d4ebff;}#sk-container-id-3 input.sk-hidden--visually {border: 0;clip: rect(1px 1px 1px 1px);clip: rect(1px, 1px, 1px, 1px);height: 1px;margin: -1px;overflow: hidden;padding: 0;position: absolute;width: 1px;}#sk-container-id-3 div.sk-estimator {font-family: monospace;background-color: #f0f8ff;border: 1px dotted black;border-radius: 0.25em;box-sizing: border-box;margin-bottom: 0.5em;}#sk-container-id-3 div.sk-estimator:hover {background-color: #d4ebff;}#sk-container-id-3 div.sk-parallel-item::after {content: \"\";width: 100%;border-bottom: 1px solid gray;flex-grow: 1;}#sk-container-id-3 div.sk-label:hover label.sk-toggleable__label {background-color: #d4ebff;}#sk-container-id-3 div.sk-serial::before {content: \"\";position: absolute;border-left: 1px solid gray;box-sizing: border-box;top: 0;bottom: 0;left: 50%;z-index: 0;}#sk-container-id-3 div.sk-serial {display: flex;flex-direction: column;align-items: center;background-color: white;padding-right: 0.2em;padding-left: 0.2em;position: relative;}#sk-container-id-3 div.sk-item {position: relative;z-index: 1;}#sk-container-id-3 div.sk-parallel {display: flex;align-items: stretch;justify-content: center;background-color: white;position: relative;}#sk-container-id-3 div.sk-item::before, #sk-container-id-3 div.sk-parallel-item::before {content: \"\";position: absolute;border-left: 1px solid gray;box-sizing: border-box;top: 0;bottom: 0;left: 50%;z-index: -1;}#sk-container-id-3 div.sk-parallel-item {display: flex;flex-direction: column;z-index: 1;position: relative;background-color: white;}#sk-container-id-3 div.sk-parallel-item:first-child::after {align-self: flex-end;width: 50%;}#sk-container-id-3 div.sk-parallel-item:last-child::after {align-self: flex-start;width: 50%;}#sk-container-id-3 div.sk-parallel-item:only-child::after {width: 0;}#sk-container-id-3 div.sk-dashed-wrapped {border: 1px dashed gray;margin: 0 0.4em 0.5em 0.4em;box-sizing: border-box;padding-bottom: 0.4em;background-color: white;}#sk-container-id-3 div.sk-label label {font-family: monospace;font-weight: bold;display: inline-block;line-height: 1.2em;}#sk-container-id-3 div.sk-label-container {text-align: center;}#sk-container-id-3 div.sk-container {/* jupyter's `normalize.less` sets `[hidden] { display: none; }` but bootstrap.min.css set `[hidden] { display: none !important; }` so we also need the `!important` here to be able to override the default hidden behavior on the sphinx rendered scikit-learn.org. See: https://github.com/scikit-learn/scikit-learn/issues/21755 */display: inline-block !important;position: relative;}#sk-container-id-3 div.sk-text-repr-fallback {display: none;}</style><div id=\"sk-container-id-3\" class=\"sk-top-container\"><div class=\"sk-text-repr-fallback\"><pre>LinearRegression()</pre><b>In a Jupyter environment, please rerun this cell to show the HTML representation or trust the notebook. <br />On GitHub, the HTML representation is unable to render, please try loading this page with nbviewer.org.</b></div><div class=\"sk-container\" hidden><div class=\"sk-item\"><div class=\"sk-estimator sk-toggleable\"><input class=\"sk-toggleable__control sk-hidden--visually\" id=\"sk-estimator-id-3\" type=\"checkbox\" checked><label for=\"sk-estimator-id-3\" class=\"sk-toggleable__label sk-toggleable__label-arrow\">LinearRegression</label><div class=\"sk-toggleable__content\"><pre>LinearRegression()</pre></div></div></div></div></div>"
      ],
      "text/plain": [
       "LinearRegression()"
      ]
     },
     "execution_count": 96,
     "metadata": {},
     "output_type": "execute_result"
    }
   ],
   "source": [
    "reg_model.fit(X_train, y_train)\n",
    "\n",
    "#modelimizi eğittik"
   ]
  },
  {
   "cell_type": "code",
   "execution_count": 97,
   "id": "80dc590d",
   "metadata": {},
   "outputs": [
    {
     "data": {
      "text/plain": [
       "array([0.34039197])"
      ]
     },
     "execution_count": 97,
     "metadata": {},
     "output_type": "execute_result"
    }
   ],
   "source": [
    "# b + w*x : burdaki x bizim trainimiz\n",
    "\n",
    "# sabit (b - bias)\n",
    "reg_model.intercept_"
   ]
  },
  {
   "cell_type": "code",
   "execution_count": 98,
   "id": "f263c976",
   "metadata": {},
   "outputs": [
    {
     "data": {
      "text/plain": [
       "array([[-0.47414172,  0.8862367 , -0.07322285, -0.20986365,  0.20286963,\n",
       "         0.01672157, -0.60015683,  0.6019206 , -0.50615578,  0.12668478,\n",
       "         0.19768322,  0.01949849,  0.16589838, -0.0825178 , -0.07972435,\n",
       "         0.06497967, -0.10359359,  0.1606949 ,  0.13289604,  0.09503182,\n",
       "         2.28073825, -2.52050847,  0.02694693, -0.45328398, -0.03427843,\n",
       "        -0.3422252 , -0.27111471, -0.03181517,  0.10969401,  0.04042507,\n",
       "        -3.23289168,  1.83407525, -0.22462491,  0.72852203,  0.94470671,\n",
       "        -0.00597069,  0.08608937, -0.19052637,  0.00603215, -0.08319905,\n",
       "         0.03047401,  0.05561536, -0.17027263, -0.02025374,  0.03791907,\n",
       "        -0.03188692, -0.0467501 , -0.08614594, -0.0357677 ]])"
      ]
     },
     "execution_count": 98,
     "metadata": {},
     "output_type": "execute_result"
    }
   ],
   "source": [
    "# coefficients (w - weights)\n",
    "reg_model.coef_"
   ]
  },
  {
   "cell_type": "code",
   "execution_count": 107,
   "id": "a2dce66c",
   "metadata": {},
   "outputs": [
    {
     "data": {
      "text/plain": [
       "SALARY   0.31\n",
       "Name: 23, dtype: float64"
      ]
     },
     "execution_count": 107,
     "metadata": {},
     "output_type": "execute_result"
    }
   ],
   "source": [
    "#linear regression y_hat = b + w*x\n",
    "\n",
    "np.inner(X_train.iloc[2, :].values ,reg_model.coef_) + reg_model.intercept_\n",
    "y_train.iloc[2]"
   ]
  },
  {
   "cell_type": "code",
   "execution_count": 108,
   "id": "cf4be709",
   "metadata": {},
   "outputs": [
    {
     "data": {
      "text/plain": [
       "SALARY   -0.32\n",
       "Name: 297, dtype: float64"
      ]
     },
     "execution_count": 108,
     "metadata": {},
     "output_type": "execute_result"
    }
   ],
   "source": [
    "np.inner(X_train.iloc[4, :].values ,reg_model.coef_) + reg_model.intercept_\n",
    "y_train.iloc[4]"
   ]
  },
  {
   "cell_type": "code",
   "execution_count": 109,
   "id": "c3df160a",
   "metadata": {},
   "outputs": [],
   "source": [
    "# Tahmin"
   ]
  },
  {
   "cell_type": "code",
   "execution_count": 110,
   "id": "7b2aca7b",
   "metadata": {},
   "outputs": [],
   "source": [
    "# Tahmin Başarısını Değerlendirme"
   ]
  },
  {
   "cell_type": "code",
   "execution_count": 115,
   "id": "849a79aa",
   "metadata": {},
   "outputs": [],
   "source": [
    "# Train RMSE\n",
    "y_pred = reg_model.predict(X_train)"
   ]
  },
  {
   "cell_type": "code",
   "execution_count": 116,
   "id": "a7571f4e",
   "metadata": {},
   "outputs": [
    {
     "data": {
      "text/plain": [
       "0.37434999161102717"
      ]
     },
     "execution_count": 116,
     "metadata": {},
     "output_type": "execute_result"
    }
   ],
   "source": [
    "np.sqrt(mean_squared_error(y_train, y_pred))\n",
    "# smape = mean_absolute_error(y_train, y_pred) / y_train.mean()"
   ]
  },
  {
   "cell_type": "code",
   "execution_count": 112,
   "id": "f6f87080",
   "metadata": {},
   "outputs": [
    {
     "data": {
      "text/plain": [
       "0.7758602292430655"
      ]
     },
     "execution_count": 112,
     "metadata": {},
     "output_type": "execute_result"
    }
   ],
   "source": [
    "# TRAIN RKARE\n",
    "reg_model.score(X_train, y_train)"
   ]
  },
  {
   "cell_type": "code",
   "execution_count": 121,
   "id": "20019ed6",
   "metadata": {},
   "outputs": [
    {
     "data": {
      "text/plain": [
       "array([[ 0.31438577],\n",
       "       [ 0.42828662],\n",
       "       [ 0.54925311],\n",
       "       [-0.2202928 ],\n",
       "       [-0.78623287],\n",
       "       [ 0.77121739],\n",
       "       [-0.00493713],\n",
       "       [-0.92200905],\n",
       "       [ 0.00463924],\n",
       "       [ 0.02423836],\n",
       "       [-0.10637671],\n",
       "       [ 1.87472819],\n",
       "       [-0.20298281],\n",
       "       [ 1.39680855],\n",
       "       [ 1.22818984],\n",
       "       [-0.18315536],\n",
       "       [ 0.64484134],\n",
       "       [ 0.05477292],\n",
       "       [-0.60923235],\n",
       "       [ 0.42627385],\n",
       "       [-0.37312562],\n",
       "       [-0.01900975],\n",
       "       [ 0.12001733],\n",
       "       [-0.12929878],\n",
       "       [-0.14783601],\n",
       "       [ 0.27629409],\n",
       "       [ 1.52939557],\n",
       "       [ 0.83534773],\n",
       "       [ 1.14004406],\n",
       "       [ 0.09871004],\n",
       "       [ 0.51957813],\n",
       "       [-0.08040264],\n",
       "       [ 0.15175786],\n",
       "       [ 0.0971649 ],\n",
       "       [ 0.79453551],\n",
       "       [ 0.04983987],\n",
       "       [ 0.4834064 ],\n",
       "       [ 0.42739882],\n",
       "       [-0.41208057],\n",
       "       [ 0.39981314],\n",
       "       [-0.94032174],\n",
       "       [-0.26262726],\n",
       "       [ 0.88903695],\n",
       "       [ 0.11502373],\n",
       "       [ 0.39795468],\n",
       "       [ 0.57091442],\n",
       "       [-1.44669675],\n",
       "       [-0.78547349],\n",
       "       [ 0.4282483 ],\n",
       "       [ 0.27483049],\n",
       "       [-0.51554665],\n",
       "       [-0.55642715],\n",
       "       [ 0.46290548]])"
      ]
     },
     "execution_count": 121,
     "metadata": {},
     "output_type": "execute_result"
    }
   ],
   "source": [
    "# Test RMSE\n",
    "y_pred = reg_model.predict(X_test)\n",
    "y_pred \n",
    "#tahmin değerleri"
   ]
  },
  {
   "cell_type": "code",
   "execution_count": 120,
   "id": "fc445c2d",
   "metadata": {},
   "outputs": [
    {
     "data": {
      "text/plain": [
       "0.6077292161203351"
      ]
     },
     "execution_count": 120,
     "metadata": {},
     "output_type": "execute_result"
    }
   ],
   "source": [
    "np.sqrt(mean_squared_error(y_test, y_pred))\n",
    "\n",
    "#gerçek değerlerle arasındaki ilişkiyi görelim"
   ]
  },
  {
   "cell_type": "code",
   "execution_count": 117,
   "id": "d9059a98",
   "metadata": {},
   "outputs": [
    {
     "data": {
      "text/plain": [
       "0.49429301097439216"
      ]
     },
     "execution_count": 117,
     "metadata": {},
     "output_type": "execute_result"
    }
   ],
   "source": [
    "# Test RKARE\n",
    "reg_model.score(X_test, y_test)"
   ]
  },
  {
   "cell_type": "code",
   "execution_count": 118,
   "id": "a284265f",
   "metadata": {},
   "outputs": [
    {
     "data": {
      "text/plain": [
       "0.5307222926812072"
      ]
     },
     "execution_count": 118,
     "metadata": {},
     "output_type": "execute_result"
    }
   ],
   "source": [
    "# 10 Katlı CV RMSE\n",
    "np.mean(np.sqrt(-cross_val_score(reg_model,\n",
    "                                 X, y,\n",
    "                                 cv=10,\n",
    "                                 scoring=\"neg_mean_squared_error\")))"
   ]
  }
 ],
 "metadata": {
  "kernelspec": {
   "display_name": "Python 3 (ipykernel)",
   "language": "python",
   "name": "python3"
  },
  "language_info": {
   "codemirror_mode": {
    "name": "ipython",
    "version": 3
   },
   "file_extension": ".py",
   "mimetype": "text/x-python",
   "name": "python",
   "nbconvert_exporter": "python",
   "pygments_lexer": "ipython3",
   "version": "3.11.4"
  }
 },
 "nbformat": 4,
 "nbformat_minor": 5
}
